{
 "metadata": {
  "name": "",
  "signature": "sha256:6edda42d164d53c503178b7a17a1611f3d962aa7810277cec9266396872dc461"
 },
 "nbformat": 3,
 "nbformat_minor": 0,
 "worksheets": [
  {
   "cells": [
    {
     "cell_type": "heading",
     "level": 1,
     "metadata": {},
     "source": [
      "Extracting reddit titles, upvotes, downvotes, and submission time"
     ]
    },
    {
     "cell_type": "markdown",
     "metadata": {},
     "source": [
      "In [Harvard University's Data Science course](https://github.com/cs109/content), in [Lab 2](https://github.com/cs109/content/tree/master/labs/lab2) the information about comments to the first few pages of Reddit is extracted. Here I write my version to this where I use BeautifulSoup. You can find the [template](https://github.com/cs109/content/blob/master/labs/lab2/Lab_2_B_Live.ipynb) here, and a solution [here](https://github.com/cs109/content/blob/master/labs/lab2/Lab_2_B.ipynb) (this is an old scraper, so it doesn't work anymore).    \n",
      "\n",
      "\n",
      "\n",
      "<br> <br/> "
     ]
    },
    {
     "cell_type": "heading",
     "level": 3,
     "metadata": {},
     "source": [
      "Two Phases: "
     ]
    },
    {
     "cell_type": "markdown",
     "metadata": {},
     "source": [
      "* first find all the URLs to comment pages on the first few front pages of reddit:\n",
      "* second, extract information from each comments page: here I extract information for each comment on a comments page. "
     ]
    },
    {
     "cell_type": "heading",
     "level": 3,
     "metadata": {},
     "source": [
      "Finding the URLs to comment pages"
     ]
    },
    {
     "cell_type": "code",
     "collapsed": false,
     "input": [
      "# Setup\n",
      "import requests\n",
      "import pattern.web as web \n",
      "import pandas as pd \n",
      "import numpy as np \n",
      "import matplotlib.pyplot as plt \n",
      "from BeautifulSoup import BeautifulSoup "
     ],
     "language": "python",
     "metadata": {},
     "outputs": [],
     "prompt_number": 2
    },
    {
     "cell_type": "code",
     "collapsed": false,
     "input": [
      "def get_links_from_front_pages(n):\n",
      "    \"find URLs of comments pages, linked from the n first few pages of reddit\"\n",
      "    url = 'http://www.reddit.com/'\n",
      "    comment_pages = []\n",
      "\n",
      "    for page_idx in range(n):\n",
      "        #r = requests.get(url)\n",
      "        #bs = BeautifulSoup(r.text)\n",
      "        url = web.URL(url)\n",
      "        bs = BeautifulSoup(url.download(cached = False))\n",
      "\n",
      "        for comments_link in bs.findAll('a', 'bylink', 'comments', href=True):\n",
      "            href = comments_link['href']\n",
      "            # print href \n",
      "            comment_pages.append(href)\n",
      "   \n",
      "        print len(comment_pages)\n",
      "\n",
      "\n",
      "        # reddit has a 'next' button at the end of each page, with the link assigned for the next page.\n",
      "        # our gole here is to find that one link on each page and update the url with this new link.\n",
      "        # this way we can move forward as many pages as we like. \n",
      "        # When you investigate, you'll see that this new url link contains a piece in it: \n",
      "        # 'count=n'. Here n is a number that is a multiple of 25, depending on the page.\n",
      "        # This piece is not the only difference between different url's, but it is a pattern  \n",
      "        # that is iterated, which we can use to identify each page. \n",
      "        \n",
      "        # this piece is partly from Harvard's lab:\n",
      "        for a in bs.findAll('a', href=True):\n",
      "            if ('count=%d') % ((page_idx + 1) * 25) in a['href']:\n",
      "                url = a['href']  # new url: it is the next page\n",
      "                print \"updated\", url                 \n",
      "        print \"outside\", url         \n",
      "     \n",
      "    return comment_pages \n",
      "        "
     ],
     "language": "python",
     "metadata": {},
     "outputs": [],
     "prompt_number": 3
    },
    {
     "cell_type": "code",
     "collapsed": false,
     "input": [
      "# get the comments on the first 6 pages of reddit: \n",
      "comment_pages = get_links_from_front_pages(6);"
     ],
     "language": "python",
     "metadata": {},
     "outputs": [
      {
       "output_type": "stream",
       "stream": "stdout",
       "text": [
        "25\n",
        "updated https://www.reddit.com/?count=25&after=t3_61yxkt\n",
        "outside https://www.reddit.com/?count=25&after=t3_61yxkt\n",
        "50"
       ]
      },
      {
       "output_type": "stream",
       "stream": "stdout",
       "text": [
        "\n",
        "updated https://www.reddit.com/?count=50&after=t3_621fkd\n",
        "outside https://www.reddit.com/?count=50&after=t3_621fkd\n",
        "75"
       ]
      },
      {
       "output_type": "stream",
       "stream": "stdout",
       "text": [
        "\n",
        "updated https://www.reddit.com/?count=75&after=t3_61z7t1\n",
        "outside https://www.reddit.com/?count=75&after=t3_61z7t1\n",
        "100"
       ]
      },
      {
       "output_type": "stream",
       "stream": "stdout",
       "text": [
        "\n",
        "updated https://www.reddit.com/?count=100&after=t3_61y01z\n",
        "outside https://www.reddit.com/?count=100&after=t3_61y01z\n",
        "125"
       ]
      },
      {
       "output_type": "stream",
       "stream": "stdout",
       "text": [
        "\n",
        "updated https://www.reddit.com/?count=125&after=t3_61xm9b\n",
        "outside https://www.reddit.com/?count=125&after=t3_61xm9b\n",
        "150"
       ]
      },
      {
       "output_type": "stream",
       "stream": "stdout",
       "text": [
        "\n",
        "updated https://www.reddit.com/?count=150&after=t3_61zmeo\n",
        "outside https://www.reddit.com/?count=150&after=t3_61zmeo\n"
       ]
      }
     ],
     "prompt_number": 4
    },
    {
     "cell_type": "code",
     "collapsed": false,
     "input": [
      "comment_pages"
     ],
     "language": "python",
     "metadata": {},
     "outputs": [
      {
       "metadata": {},
       "output_type": "pyout",
       "prompt_number": 7,
       "text": [
        "[u'https://www.reddit.com/r/shittyrobots/comments/621esx/i_am_a_robot_that_automatically_prints_and_burns/',\n",
        " u'https://www.reddit.com/r/gifs/comments/620vs0/little_predator/',\n",
        " u'https://www.reddit.com/r/GetMotivated/comments/620x42/image_not_all_those_who_wander_are_lost/',\n",
        " u'https://www.reddit.com/r/sports/comments/620u88/gonzaga_basketball_players_and_the_news_anchor/',\n",
        " u'https://www.reddit.com/r/pics/comments/620d48/perfect_selfie_with_bill/',\n",
        " u'https://www.reddit.com/r/OldSchoolCool/comments/6201hq/african_american_protestor_in_chicago_1941/',\n",
        " u'https://www.reddit.com/r/MadeMeSmile/comments/620m72/finding_out_the_sex_of_your_baby/',\n",
        " u'https://www.reddit.com/r/EarthPorn/comments/621jzn/dont_build_a_wall_here_usamexico_border_at_big/',\n",
        " u'https://www.reddit.com/r/funny/comments/620k2p/so_whats_your_real_name/',\n",
        " u'https://www.reddit.com/r/aww/comments/61zuol/puppers_swim_for_the_first_time/',\n",
        " u'https://www.reddit.com/r/history/comments/61zowk/3800yearold_egyption_tomb_found_intact_and/',\n",
        " u'https://www.reddit.com/r/technology/comments/61yz6e/congresswoman_behind_bill_to_let_isps_sell_your/',\n",
        " u'https://www.reddit.com/r/trippinthroughtime/comments/620n4q/i_didnt_realize_the_kid_that_fell_was_special/',\n",
        " u'https://www.reddit.com/r/movies/comments/620bdf/it_first_official_poster/',\n",
        " u'https://www.reddit.com/r/firstworldanarchists/comments/61zsxb/jbp/',\n",
        " u'https://www.reddit.com/r/BlackPeopleTwitter/comments/6205z5/feels_good_to_see_films_with_dont_rely_on_wornout/',\n",
        " u'https://www.reddit.com/r/woahdude/comments/620cbm/a_town_in_lithuania_has_this_ghost_statue/',\n",
        " u'https://www.reddit.com/r/instant_regret/comments/620qlz/smashing_through_a_table/',\n",
        " u'https://www.reddit.com/r/wholesomememes/comments/61z8t1/cant_deny_that_spark/',\n",
        " u'https://www.reddit.com/r/mildlyinteresting/comments/61z8tr/today_my_professor_decided_to_match_his_tie_with/',\n",
        " u'https://www.reddit.com/r/Art/comments/61zc1r/forest_giant_eytan_zana_digital_2015/',\n",
        " u'https://www.reddit.com/r/space/comments/61z58e/new_horizons_highres_farewell_to_pluto/',\n",
        " u'https://www.reddit.com/r/holdmybeer/comments/61yxjq/does_this_belong_here/',\n",
        " u'https://www.reddit.com/r/Music/comments/61zd92/snoop_dogg_to_induct_tupac_shakur_into_the_rock/',\n",
        " u'https://www.reddit.com/r/worldnews/comments/61yxkt/only_sweden_germany_and_france_are_pursuing_paris/',\n",
        " u'https://www.reddit.com/r/todayilearned/comments/61yxr7/til_that_in_1987_fisherprice_manufactured_and/',\n",
        " u'https://www.reddit.com/r/CrappyDesign/comments/61z6f7/this_door_at_my_dentists_office/',\n",
        " u'https://www.reddit.com/r/news/comments/61zjjx/spacex_is_about_to_make_history_by_relaunching_a/',\n",
        " u'https://www.reddit.com/r/videos/comments/61z6dz/binging_with_babish_cubanos_from_chef/',\n",
        " u'https://www.reddit.com/r/personalfinance/comments/62141f/reddit_is_advertising_really_bad_ira_advice/',\n",
        " u'https://www.reddit.com/r/gaming/comments/61z14o/i_beat_dark_souls_3_using_a_steering_wheel_all/',\n",
        " u'https://www.reddit.com/r/oddlysatisfying/comments/61yxmt/water_color_triangle_color_study/',\n",
        " u'https://www.reddit.com/r/creepy/comments/620d1m/imprisoned/',\n",
        " u'https://www.reddit.com/r/rarepuppers/comments/61yp7e/doggo_went_for_surgery_and_now_is_druggo/',\n",
        " u'https://www.reddit.com/r/comics/comments/61ywe5/dinomight/',\n",
        " u'https://www.reddit.com/r/KenM/comments/61zdp1/ken_m_on_searching_for_the_god_particle/',\n",
        " u'https://www.reddit.com/r/facepalm/comments/61yxvb/butt_pictures_for_pregnancy_test_pls/',\n",
        " u'https://www.reddit.com/r/madlads/comments/61znjn/you_did_what/',\n",
        " u'https://www.reddit.com/r/teslamotors/comments/61yrt5/we_just_drove_from_san_francisco_to_new_york_city/',\n",
        " u'https://www.reddit.com/r/nonononoyes/comments/620zfj/the_wrong_way_to_use_a_table_saw/',\n",
        " u'https://www.reddit.com/r/woodworking/comments/61z6oj/i_built_my_dog_a_new_bed/',\n",
        " u'https://www.reddit.com/r/trebuchetmemes/comments/61z3pk/trash_if_you_upvote_this_will_be_the_first_image/',\n",
        " u'https://www.reddit.com/r/funny/comments/61zydb/the_revenant_ft_stewie/',\n",
        " u'https://www.reddit.com/r/blackpeoplegifs/comments/61yum9/i_want_to_get_off_stop_i_want_to_ge/',\n",
        " u'https://www.reddit.com/r/babyelephantgifs/comments/61zlty/lullabies_work_on_all_babies_including_elephants/',\n",
        " u'https://www.reddit.com/r/nottheonion/comments/61z11x/iceland_witnesses_recordbreaking_baby_boom_nine/',\n",
        " u'https://www.reddit.com/r/aww/comments/6204am/twin_seals_separated_at_birth/',\n",
        " u'https://www.reddit.com/r/interestingasfuck/comments/61ymjp/african_man_built_car_out_of_scraps_he_found/',\n",
        " u'https://www.reddit.com/r/theydidthemath/comments/61zv9d/request_how_far_away_is_saturn_in_the_bottom_frame/',\n",
        " u'https://www.reddit.com/r/cringepics/comments/621fkd/facebook_is_the_perfect_place_to_be_passive/',\n",
        " u'https://www.reddit.com/r/askscience/comments/620y9t/how_are_we_able_to_perform_a_body_transplant_when/',\n",
        " u'https://www.reddit.com/r/WritingPrompts/comments/61zl7r/wp_aliens_have_arrived_and_have_been_eating/',\n",
        " u'https://www.reddit.com/r/mildlyinfuriating/comments/61yo6k/this_ios_glitch_when_switching_from_landscape_to/',\n",
        " u'https://www.reddit.com/r/OSHA/comments/61yrsk/pitfall/',\n",
        " u'https://www.reddit.com/r/HighQualityGifs/comments/61yjxi/mod_abuse_is_real_and_there_are_new_victims/',\n",
        " u'https://www.reddit.com/r/Whatcouldgowrong/comments/62036x/wcgw_if_i_shoot_myself_in_the_face_with_a/',\n",
        " u'https://www.reddit.com/r/books/comments/61yvfv/the_collapsing_empire_is_a_hilarious_tale_of/',\n",
        " u'https://www.reddit.com/r/MURICA/comments/6207zx/spotted_these_patriots_in_raskreddit/',\n",
        " u'https://www.reddit.com/r/marvelstudios/comments/61z6i7/new_spiderman_homecoming_trailer/',\n",
        " u'https://www.reddit.com/r/AskReddit/comments/61z2ss/whats_the_most_brutally_honest_thing_a_child_has/',\n",
        " u'https://www.reddit.com/r/trashy/comments/61yxkl/am_i_cool_yet/',\n",
        " u'https://www.reddit.com/r/NintendoSwitch/comments/61ygzh/nintendo_switch_64_dock/',\n",
        " u'https://www.reddit.com/r/PrequelMemes/comments/61zu78/my_buddy_student_teaches_for_a_9th_grade_civics/',\n",
        " u'https://www.reddit.com/r/buildapc/comments/61z1of/is_there_any_realistic_way_we_can_inform_people/',\n",
        " u'https://www.reddit.com/r/IAmA/comments/61z11r/i_am_a_retired_starcraft_progamer_now_fulltime/',\n",
        " u'https://www.reddit.com/r/LifeProTips/comments/61yf3z/lpt_never_let_anyone_at_your_office_know_that/',\n",
        " u'https://www.reddit.com/r/Android/comments/61znw9/real_world_comparison_of_android_auto_vs_apple/',\n",
        " u'https://www.reddit.com/r/gifs/comments/61z2nv/rescuers_try_to_cool_down_a_king_cobra_after_it/',\n",
        " u'https://www.reddit.com/r/talesfromtechsupport/comments/621lif/how_i_quit_after_i_got_fired_and_unfired/',\n",
        " u'https://www.reddit.com/r/photoshopbattles/comments/61zmsx/psbattle_this_needlefish_with_its_mouth_agape/',\n",
        " u'https://www.reddit.com/r/GamePhysics/comments/61zb1k/gta_v_tank_slap/',\n",
        " u'https://www.reddit.com/r/UpliftingNews/comments/61yolz/bullied_bucktoothed_kid_finally_gets_his_perfect/',\n",
        " u'https://www.reddit.com/r/DIY/comments/61z40k/i_made_a_coffee_table_using_wooden_crates/',\n",
        " u'https://www.reddit.com/r/SurgeryGifs/comments/61z9b3/robotassisted_surgery_is_reaching_an_incredible/',\n",
        " u'https://www.reddit.com/r/Breath_of_the_Wild/comments/61z7t1/make_chests_great_again/',\n",
        " u'https://www.reddit.com/r/MapPorn/comments/620c5g/the_greater_tokyo_area_compared_to_greater_london/',\n",
        " u'https://www.reddit.com/r/AnimalsBeingBros/comments/621kwl/man_having_water_fight_with_a_bear/',\n",
        " u'https://www.reddit.com/r/Damnthatsinteresting/comments/61z70h/rare_footage_of_some_extinct_animals/',\n",
        " u'https://www.reddit.com/r/meirl/comments/61zz2p/meirl/',\n",
        " u'https://www.reddit.com/r/MarchAgainstTrump/comments/61zplb/trump_administration_sought_to_block_sally_yates/',\n",
        " u'https://www.reddit.com/r/starterpacks/comments/6201f4/the_im_a_millennial_and_i_know_a_lot_about/',\n",
        " u'https://www.reddit.com/r/NatureIsFuckingLit/comments/61yofk/moon_jelly_vibes/',\n",
        " u'https://www.reddit.com/r/Eyebleach/comments/61yu1f/this_is_what_pure_excitement_looks_like/',\n",
        " u'https://www.reddit.com/r/LateStageCapitalism/comments/61zjqf/meritocracy/',\n",
        " u'https://www.reddit.com/r/television/comments/6207qh/skinny_pete_playing_the_piano_in_breaking_bad_has/',\n",
        " u'https://www.reddit.com/r/Jokes/comments/61ybm5/maybe_if_we_all_emailed_the_constitution_to_each/',\n",
        " u'https://www.reddit.com/r/explainlikeimfive/comments/61z406/eli5_the_11_dimensions_of_the_universe/',\n",
        " u'https://www.reddit.com/r/Celebs/comments/61znhx/emma_stone/',\n",
        " u'https://www.reddit.com/r/worldnews/comments/6218ev/trump_signs_order_undoing_obama_climate_change/',\n",
        " u'https://www.reddit.com/r/reallifedoodles/comments/6213qq/dead_cake/',\n",
        " u'https://www.reddit.com/r/IdiotsFightingThings/comments/620xms/pumpkinhead/',\n",
        " u'https://www.reddit.com/r/food/comments/61z0wm/homemade_chocolate_chip_cookie_dough_cake_i_made/',\n",
        " u'https://www.reddit.com/r/Tinder/comments/61ycgj/when_i_saw_those_give_me_5_profiles_i_got_the/',\n",
        " u'https://www.reddit.com/r/standupshots/comments/61z30k/boyfriend_material/',\n",
        " u'https://www.reddit.com/r/evilbuildings/comments/61zfu5/if_theres_something_strange_in_your_neighborhood/',\n",
        " u'https://www.reddit.com/r/dankmemes/comments/61y9e0/ettr_run/',\n",
        " u'https://www.reddit.com/r/classic4chan/comments/61yn3m/anon_is_taken_hostage_in_iraq/',\n",
        " u'https://www.reddit.com/r/movies/comments/61z6id/new_spiderman_homecoming_trailer/',\n",
        " u'https://www.reddit.com/r/terriblefacebookmemes/comments/61ykot/like_if_you_love_oreos/',\n",
        " u'https://www.reddit.com/r/australia/comments/61y01z/what_its_like_living_through_a_cyclone/',\n",
        " u'https://www.reddit.com/r/reddevils/comments/61ynke/rashford/',\n",
        " u'https://www.reddit.com/r/todayilearned/comments/620cs3/til_stephen_kings_formula_on_writing_is_read_and/',\n",
        " u'https://www.reddit.com/r/gadgets/comments/61zp79/the_galaxy_s8_will_be_samsungs_biggest_test_ever/',\n",
        " u'https://www.reddit.com/r/BetterEveryLoop/comments/61ywjv/snorting_coke/',\n",
        " u'https://www.reddit.com/r/BlackPeopleTwitter/comments/61yt85/share_a_prayer/',\n",
        " u'https://www.reddit.com/r/FoodPorn/comments/61zin2/hot_honey_garlic_sweet_potato_bake_one_of_my_new/',\n",
        " u'https://www.reddit.com/r/youtubehaiku/comments/61zj24/poetry_dog_lover/',\n",
        " u'https://www.reddit.com/r/rage/comments/61zvcm/congresswoman_behind_bill_to_let_isps_sell_your/',\n",
        " u'https://www.reddit.com/r/funny/comments/620ayg/savage_burn/',\n",
        " u'https://www.reddit.com/r/futurama/comments/620axw/on_this_day_18_years_ago_march_28_1999_the_first/',\n",
        " u'https://www.reddit.com/r/Marvel/comments/61z6nk/spiderman_homecoming_official_trailer_2/',\n",
        " u'https://www.reddit.com/r/aww/comments/620nhn/he_loves_head_rubs/',\n",
        " u'https://www.reddit.com/r/tifu/comments/61yb36/tifu_by_waging_chemical_warfare_on_myself_in_my/',\n",
        " u'https://www.reddit.com/r/shittyaskscience/comments/61z91s/why_do_only_brave_kids_get_cancer_why_none_of_the/',\n",
        " u'https://www.reddit.com/r/dadjokes/comments/61z0lr/this_sub_in_a_nutshell/',\n",
        " u'https://www.reddit.com/r/2meirl4meirl/comments/61ychc/2meirl4meirl/',\n",
        " u'https://www.reddit.com/r/pics/comments/61yc2y/chuck_orear_with_his_famous_photograph/',\n",
        " u'https://www.reddit.com/r/Birbs/comments/61zcd7/mamabirb/',\n",
        " u'https://www.reddit.com/r/science/comments/61yui0/science_ama_series_we_are_drs_eric_stern_and_mark/',\n",
        " u'https://www.reddit.com/r/RetroFuturism/comments/620581/space_man_and_space_girl_from_tomorrowland_1967/',\n",
        " u'https://www.reddit.com/r/PeopleFuckingDying/comments/61ybeu/human_chased_by_horde_of_blood_hungry_vultures/',\n",
        " u'https://www.reddit.com/r/battlestations/comments/61zxvl/did_a_little_cleaning_the_other_night/',\n",
        " u'https://www.reddit.com/r/canada/comments/61ylao/toronto_councillors_want_to_deny_pride_funding/',\n",
        " u'https://www.reddit.com/r/AnimalCrossing/comments/6203di/_/',\n",
        " u'https://www.reddit.com/r/combinedgifs/comments/61xm9b/confused_moonwalk/',\n",
        " u'https://www.reddit.com/r/funhaus/comments/61y9ql/words_of_willems/',\n",
        " u'https://www.reddit.com/r/lego/comments/61z5ow/i_decided_to_batify_the_jokers_lowrider_set/',\n",
        " u'https://www.reddit.com/r/DunderMifflin/comments/61yv6f/raise_your_hand_if_you_have_a_vagina_now_raise/',\n",
        " u'https://www.reddit.com/r/thatHappened/comments/61yr0t/grocery_store_psychology/',\n",
        " u'https://www.reddit.com/r/space/comments/61zs4l/spacex_is_about_to_make_history_by_relaunching_a/',\n",
        " u'https://www.reddit.com/r/NintendoSwitch/comments/61zbbx/psyonix_evaluating_whether_to_bring_rocket_league/',\n",
        " u'https://www.reddit.com/r/gamegrumps/comments/61zx8t/danny_before_game_grumps/',\n",
        " u'https://www.reddit.com/r/talesfromtechsupport/comments/61z2ns/how_i_got_fired_and_unfired_in_the_same_day/',\n",
        " u'https://www.reddit.com/r/dogpictures/comments/61zqdz/do_you_really_have_a_cookie_or_just_luring_me/',\n",
        " u'https://www.reddit.com/r/totallynotrobots/comments/620q77/scary_picture_of_snake_biting_a_poor_humans_arm/',\n",
        " u'https://www.reddit.com/r/comicbooks/comments/61ylhg/v_for_vendetta_totalitarian_radio_reminds_me_of/',\n",
        " u'https://www.reddit.com/r/Sneks/comments/61ze7v/giant_danger_noodle_is_thurst/',\n",
        " u'https://www.reddit.com/r/pcgaming/comments/621r0f/house_of_representatives_votes_232184_to_do_away/',\n",
        " u'https://www.reddit.com/r/worldpolitics/comments/61zymf/congresswoman_behind_bill_to_let_isps_sell_your/',\n",
        " u'https://www.reddit.com/r/TwoXChromosomes/comments/61ylpa/group_of_feminists_sending_out_free_sex_toys_in/',\n",
        " u'https://www.reddit.com/r/GetMotivated/comments/61zlyj/image_i_see_this_everyday_when_i_sit_down_at_my/',\n",
        " u'https://www.reddit.com/r/WhitePeopleTwitter/comments/61xhk4/oh_you_millennials/',\n",
        " u'https://www.reddit.com/r/gentlemanboners/comments/61zmmz/nina_dobrev/',\n",
        " u'https://www.reddit.com/r/AnimalsBeingJerks/comments/61ydef/get_up_to_go_to_the_bathroom_and_come_back_to_this/',\n",
        " u'https://www.reddit.com/r/anime_irl/comments/61zaft/anime_irl/',\n",
        " u'https://www.reddit.com/r/tattoos/comments/61zfcr/large_peony_flower_under_existing_kanji_by_nick/',\n",
        " u'https://www.reddit.com/r/gaming/comments/61yrbx/as_an_audio_engineer_this_has_been_bothering_me/',\n",
        " u'https://www.reddit.com/r/Showerthoughts/comments/61yd5t/shoveling_snow_is_just_pushing_your_problems_to/',\n",
        " u'https://www.reddit.com/r/hmmm/comments/61yq9x/hmmm/',\n",
        " u'https://www.reddit.com/r/wheredidthesodago/comments/61zmeo/the_blue_team_fumbled_the_ball_and_lost_the_game/']"
       ]
      }
     ],
     "prompt_number": 7
    },
    {
     "cell_type": "markdown",
     "metadata": {},
     "source": [
      "<p> <p/> "
     ]
    },
    {
     "cell_type": "heading",
     "level": 3,
     "metadata": {},
     "source": [
      "Extracting the information from comments"
     ]
    },
    {
     "cell_type": "code",
     "collapsed": false,
     "input": [
      "# with BeautifulSoup:\n",
      "\n",
      "def info_from_comments_pages(links):\n",
      "    \n",
      "    results = []\n",
      "    for urltext in links:\n",
      "        url = web.URL(urltext)\n",
      "        upvotes = [] \n",
      "        downvotes = [] \n",
      "        date_time = [] \n",
      "\n",
      "        bs = BeautifulSoup(url.download(cached = False))        \n",
      "        \n",
      "        if bs.find('a', 'title') is not None: \n",
      "            title = bs.find('a', 'title').text\n",
      "            print \"Title: \", title \n",
      "\n",
      "            \n",
      "        if bs.find('div', 'commentarea') is not None:            \n",
      "            comments = bs.find('div', 'commentarea').findAll('p', 'tagline')\n",
      "\n",
      "            for comment in comments:            \n",
      "\n",
      "                likes = comment.find('span', 'likes')\n",
      "                dislikes = comment.find('span', 'dislikes') \n",
      "\n",
      "\n",
      "                if likes is not None and dislikes is not None: \n",
      "\n",
      "                    # extracting the number of likes for a particular comment \n",
      "                    num_likes_str = likes.text.replace('points', '').replace('point', '')\n",
      "                    if 'k' in num_likes_str:\n",
      "                        num_likes = int(float(num_likes_str.replace('k', ''))*1000.0)\n",
      "                    else:\n",
      "                        num_likes = int(num_likes_str)                     \n",
      "                    upvotes.append(num_likes)\n",
      "\n",
      "                    # extracting the number of dislikes for a particular comment\n",
      "                    num_dislikes_str = dislikes.text.replace('points', '').replace('point', '')\n",
      "                    if 'k' in num_dislikes_str:\n",
      "                        num_dislikes = int(float(num_dislikes_str.replace('k', ''))*1000.0)\n",
      "                    else: \n",
      "                        num_dislikes = int(num_dislikes_str)                \n",
      "                    downvotes.append(num_dislikes)\n",
      "\n",
      "                    # extracting the date that is comment is published \n",
      "                    time = comment.find('time')\n",
      "                    dt = time['datetime']\n",
      "                    date_time.append(dt)\n",
      "\n",
      "#                 else: \n",
      "#                     print \"empty votes\"\n",
      "\n",
      "            results.append((title, upvotes, downvotes, pd.to_datetime(date_time)))\n",
      "            print \"Length of upvotes list \", len(upvotes) \n",
      "            print \"Length of downvotes list \", len(downvotes)\n",
      "            print \"Length of date_time list \", len(date_time)\n",
      "        \n",
      "    return results \n",
      "        "
     ],
     "language": "python",
     "metadata": {},
     "outputs": [],
     "prompt_number": 16
    },
    {
     "cell_type": "code",
     "collapsed": false,
     "input": [
      "pages = info_from_comments_pages(comment_pages)"
     ],
     "language": "python",
     "metadata": {},
     "outputs": [
      {
       "output_type": "stream",
       "stream": "stdout",
       "text": [
        "Title:  I am a robot that automatically prints and burns Trump's tweets\n",
        "Length of upvotes list "
       ]
      },
      {
       "output_type": "stream",
       "stream": "stdout",
       "text": [
        " 191\n",
        "Length of downvotes list  191\n",
        "Length of date_time list  191\n",
        "Title: "
       ]
      },
      {
       "output_type": "stream",
       "stream": "stdout",
       "text": [
        " Little Predator\n",
        "Length of upvotes list "
       ]
      },
      {
       "output_type": "stream",
       "stream": "stdout",
       "text": [
        " 33\n",
        "Length of downvotes list  33\n",
        "Length of date_time list  33\n",
        "Title: "
       ]
      },
      {
       "output_type": "stream",
       "stream": "stdout",
       "text": [
        " [Image] Not all those who wander are lost\n",
        "Length of upvotes list "
       ]
      },
      {
       "output_type": "stream",
       "stream": "stdout",
       "text": [
        " 199\n",
        "Length of downvotes list  199\n",
        "Length of date_time list  199\n",
        "Title: "
       ]
      },
      {
       "output_type": "stream",
       "stream": "stdout",
       "text": [
        " Gonzaga basketball players and the news anchor who interviewed them.\n",
        "Length of upvotes list "
       ]
      },
      {
       "output_type": "stream",
       "stream": "stdout",
       "text": [
        " 199\n",
        "Length of downvotes list  199\n",
        "Length of date_time list  199\n",
        "Title: "
       ]
      },
      {
       "output_type": "stream",
       "stream": "stdout",
       "text": [
        " Perfect selfie with Bill\n",
        "Length of upvotes list "
       ]
      },
      {
       "output_type": "stream",
       "stream": "stdout",
       "text": [
        " 197\n",
        "Length of downvotes list  197\n",
        "Length of date_time list  197\n",
        "Title: "
       ]
      },
      {
       "output_type": "stream",
       "stream": "stdout",
       "text": [
        " African American protestor in Chicago, 1941.\n",
        "Length of upvotes list "
       ]
      },
      {
       "output_type": "stream",
       "stream": "stdout",
       "text": [
        " 197\n",
        "Length of downvotes list  197\n",
        "Length of date_time list  197\n",
        "Title: "
       ]
      },
      {
       "output_type": "stream",
       "stream": "stdout",
       "text": [
        " Finding out the sex of your baby\n",
        "Length of upvotes list "
       ]
      },
      {
       "output_type": "stream",
       "stream": "stdout",
       "text": [
        " 199\n",
        "Length of downvotes list  199\n",
        "Length of date_time list  199\n",
        "Title: "
       ]
      },
      {
       "output_type": "stream",
       "stream": "stdout",
       "text": [
        " Don't build a wall here! USA/Mexico Border at Big Bend National Park, TX. [1200x800] OC\n",
        "Length of upvotes list "
       ]
      },
      {
       "output_type": "stream",
       "stream": "stdout",
       "text": [
        " 40\n",
        "Length of downvotes list  40\n",
        "Length of date_time list  40\n",
        "Title: "
       ]
      },
      {
       "output_type": "stream",
       "stream": "stdout",
       "text": [
        " So, what's your real name?\n",
        "Length of upvotes list "
       ]
      },
      {
       "output_type": "stream",
       "stream": "stdout",
       "text": [
        " 198\n",
        "Length of downvotes list  198\n",
        "Length of date_time list  198\n",
        "Title: "
       ]
      },
      {
       "output_type": "stream",
       "stream": "stdout",
       "text": [
        " Puppers swim for the first time\n",
        "Length of upvotes list "
       ]
      },
      {
       "output_type": "stream",
       "stream": "stdout",
       "text": [
        " 199\n",
        "Length of downvotes list  199\n",
        "Length of date_time list  199\n",
        "Title: "
       ]
      },
      {
       "output_type": "stream",
       "stream": "stdout",
       "text": [
        " 3,800-year-old Egyption Tomb Found, Intact and Untouched\n",
        "Length of upvotes list "
       ]
      },
      {
       "output_type": "stream",
       "stream": "stdout",
       "text": [
        " 76\n",
        "Length of downvotes list  76\n",
        "Length of date_time list  76\n",
        "Title: "
       ]
      },
      {
       "output_type": "stream",
       "stream": "stdout",
       "text": [
        " Congresswoman behind bill to let ISPs sell your search history took $693,000 from industry: \u201cRepresentative Blackburn hasn\u2019t done a single thing that crosses the phone and cable lobby\u201d\n",
        "Length of upvotes list "
       ]
      },
      {
       "output_type": "stream",
       "stream": "stdout",
       "text": [
        " 198\n",
        "Length of downvotes list  198\n",
        "Length of date_time list  198\n",
        "Title: "
       ]
      },
      {
       "output_type": "stream",
       "stream": "stdout",
       "text": [
        " I didn't realize the kid that fell was special needs.\n",
        "Length of upvotes list "
       ]
      },
      {
       "output_type": "stream",
       "stream": "stdout",
       "text": [
        " 57\n",
        "Length of downvotes list  57\n",
        "Length of date_time list  57\n",
        "Title: "
       ]
      },
      {
       "output_type": "stream",
       "stream": "stdout",
       "text": [
        " IT - first official poster\n",
        "Length of upvotes list "
       ]
      },
      {
       "output_type": "stream",
       "stream": "stdout",
       "text": [
        " 200\n",
        "Length of downvotes list  200\n",
        "Length of date_time list  200\n",
        "Title: "
       ]
      },
      {
       "output_type": "stream",
       "stream": "stdout",
       "text": [
        " JB&amp;P\n",
        "Length of upvotes list "
       ]
      },
      {
       "output_type": "stream",
       "stream": "stdout",
       "text": [
        " 192\n",
        "Length of downvotes list  192\n",
        "Length of date_time list  192\n",
        "Title: "
       ]
      },
      {
       "output_type": "stream",
       "stream": "stdout",
       "text": [
        " Feels good to see films with don't rely on worn-out stereotypes\n",
        "Length of upvotes list "
       ]
      },
      {
       "output_type": "stream",
       "stream": "stdout",
       "text": [
        " 178\n",
        "Length of downvotes list  178\n",
        "Length of date_time list  178\n",
        "Title: "
       ]
      },
      {
       "output_type": "stream",
       "stream": "stdout",
       "text": [
        " A town in Lithuania has this ghost statue climbing out of the water, onto the docks\n",
        "Length of upvotes list "
       ]
      },
      {
       "output_type": "stream",
       "stream": "stdout",
       "text": [
        " 6\n",
        "Length of downvotes list  6\n",
        "Length of date_time list  6\n",
        "Title: "
       ]
      },
      {
       "output_type": "stream",
       "stream": "stdout",
       "text": [
        " Smashing through a table\n",
        "Length of upvotes list "
       ]
      },
      {
       "output_type": "stream",
       "stream": "stdout",
       "text": [
        " 190\n",
        "Length of downvotes list  190\n",
        "Length of date_time list  190\n",
        "Title: "
       ]
      },
      {
       "output_type": "stream",
       "stream": "stdout",
       "text": [
        " Can't deny that spark\n",
        "Length of upvotes list "
       ]
      },
      {
       "output_type": "stream",
       "stream": "stdout",
       "text": [
        " 124\n",
        "Length of downvotes list  124\n",
        "Length of date_time list  124\n",
        "Title: "
       ]
      },
      {
       "output_type": "stream",
       "stream": "stdout",
       "text": [
        " Today, my professor decided to match his tie with his powerpoint theme\n",
        "Length of upvotes list "
       ]
      },
      {
       "output_type": "stream",
       "stream": "stdout",
       "text": [
        " 199\n",
        "Length of downvotes list  199\n",
        "Length of date_time list  199\n",
        "Title: "
       ]
      },
      {
       "output_type": "stream",
       "stream": "stdout",
       "text": [
        " Forest Giant, Eytan Zana, Digital, 2015\n",
        "Length of upvotes list "
       ]
      },
      {
       "output_type": "stream",
       "stream": "stdout",
       "text": [
        " 146\n",
        "Length of downvotes list  146\n",
        "Length of date_time list  146\n",
        "Title: "
       ]
      },
      {
       "output_type": "stream",
       "stream": "stdout",
       "text": [
        " New Horizons' High-Res Farewell to Pluto\n",
        "Length of upvotes list "
       ]
      },
      {
       "output_type": "stream",
       "stream": "stdout",
       "text": [
        " 114\n",
        "Length of downvotes list  114\n",
        "Length of date_time list  114\n",
        "Title: "
       ]
      },
      {
       "output_type": "stream",
       "stream": "stdout",
       "text": [
        " Does this belong here?\n",
        "Length of upvotes list "
       ]
      },
      {
       "output_type": "stream",
       "stream": "stdout",
       "text": [
        " 198\n",
        "Length of downvotes list  198\n",
        "Length of date_time list  198\n",
        "Title: "
       ]
      },
      {
       "output_type": "stream",
       "stream": "stdout",
       "text": [
        " Snoop Dogg to induct Tupac Shakur into the Rock And Roll Hall Of Fame\n",
        "Length of upvotes list "
       ]
      },
      {
       "output_type": "stream",
       "stream": "stdout",
       "text": [
        " 200\n",
        "Length of downvotes list  200\n",
        "Length of date_time list  200\n",
        "Title: "
       ]
      },
      {
       "output_type": "stream",
       "stream": "stdout",
       "text": [
        " Only Sweden, Germany and France are pursuing Paris climate goals, says study\n",
        "Length of upvotes list "
       ]
      },
      {
       "output_type": "stream",
       "stream": "stdout",
       "text": [
        " 187\n",
        "Length of downvotes list  187\n",
        "Length of date_time list  187\n",
        "Title: "
       ]
      },
      {
       "output_type": "stream",
       "stream": "stdout",
       "text": [
        " TIL that in 1987, Fisher-Price manufactured and sold a camcorder capable of recording video footage to standard audio cassettes.\n",
        "Length of upvotes list "
       ]
      },
      {
       "output_type": "stream",
       "stream": "stdout",
       "text": [
        " 199\n",
        "Length of downvotes list  199\n",
        "Length of date_time list  199\n",
        "Title: "
       ]
      },
      {
       "output_type": "stream",
       "stream": "stdout",
       "text": [
        " This door at my dentist's office\n",
        "Length of upvotes list "
       ]
      },
      {
       "output_type": "stream",
       "stream": "stdout",
       "text": [
        " 194\n",
        "Length of downvotes list  194\n",
        "Length of date_time list  194\n",
        "Title: "
       ]
      },
      {
       "output_type": "stream",
       "stream": "stdout",
       "text": [
        " SpaceX is about to make history by relaunching a used Falcon 9 rocket\n",
        "Length of upvotes list "
       ]
      },
      {
       "output_type": "stream",
       "stream": "stdout",
       "text": [
        " 160\n",
        "Length of downvotes list  160\n",
        "Length of date_time list  160\n",
        "Title: "
       ]
      },
      {
       "output_type": "stream",
       "stream": "stdout",
       "text": [
        " Binging with Babish: Cubanos from Chef\n",
        "Length of upvotes list "
       ]
      },
      {
       "output_type": "stream",
       "stream": "stdout",
       "text": [
        " 198\n",
        "Length of downvotes list  198\n",
        "Length of date_time list  198\n",
        "Title: "
       ]
      },
      {
       "output_type": "stream",
       "stream": "stdout",
       "text": [
        " Reddit is advertising really bad IRA advice. Please do not follow their suggested adds.\n",
        "Length of upvotes list "
       ]
      },
      {
       "output_type": "stream",
       "stream": "stdout",
       "text": [
        " 147\n",
        "Length of downvotes list  147\n",
        "Length of date_time list  147\n",
        "Title: "
       ]
      },
      {
       "output_type": "stream",
       "stream": "stdout",
       "text": [
        " I Beat Dark Souls 3 using a Steering Wheel. All those games of Mario Kart paid off!\n",
        "Length of upvotes list "
       ]
      },
      {
       "output_type": "stream",
       "stream": "stdout",
       "text": [
        " 200\n",
        "Length of downvotes list  200\n",
        "Length of date_time list  200\n",
        "Title: "
       ]
      },
      {
       "output_type": "stream",
       "stream": "stdout",
       "text": [
        " Water color triangle color study\n",
        "Length of upvotes list "
       ]
      },
      {
       "output_type": "stream",
       "stream": "stdout",
       "text": [
        " 175\n",
        "Length of downvotes list  175\n",
        "Length of date_time list  175\n",
        "Title: "
       ]
      },
      {
       "output_type": "stream",
       "stream": "stdout",
       "text": [
        " Imprisoned\n",
        "Length of upvotes list "
       ]
      },
      {
       "output_type": "stream",
       "stream": "stdout",
       "text": [
        " 189\n",
        "Length of downvotes list  189\n",
        "Length of date_time list  189\n",
        "Title: "
       ]
      },
      {
       "output_type": "stream",
       "stream": "stdout",
       "text": [
        " Doggo went for surgery and now is DRUGGO\n",
        "Length of upvotes list "
       ]
      },
      {
       "output_type": "stream",
       "stream": "stdout",
       "text": [
        " 181\n",
        "Length of downvotes list  181\n",
        "Length of date_time list  181\n",
        "Title: "
       ]
      },
      {
       "output_type": "stream",
       "stream": "stdout",
       "text": [
        " dinomight\n",
        "Length of upvotes list "
       ]
      },
      {
       "output_type": "stream",
       "stream": "stdout",
       "text": [
        " 97\n",
        "Length of downvotes list  97\n",
        "Length of date_time list  97\n",
        "Title: "
       ]
      },
      {
       "output_type": "stream",
       "stream": "stdout",
       "text": [
        " Ken M on searching for the God particle\n",
        "Length of upvotes list "
       ]
      },
      {
       "output_type": "stream",
       "stream": "stdout",
       "text": [
        " 161\n",
        "Length of downvotes list  161\n",
        "Length of date_time list  161\n",
        "Title: "
       ]
      },
      {
       "output_type": "stream",
       "stream": "stdout",
       "text": [
        " Butt pictures for pregnancy test pls\n",
        "Length of upvotes list "
       ]
      },
      {
       "output_type": "stream",
       "stream": "stdout",
       "text": [
        " 195\n",
        "Length of downvotes list  195\n",
        "Length of date_time list  195\n",
        "Title: "
       ]
      },
      {
       "output_type": "stream",
       "stream": "stdout",
       "text": [
        " YOU DID WHAT?!?!?!\n",
        "Length of upvotes list "
       ]
      },
      {
       "output_type": "stream",
       "stream": "stdout",
       "text": [
        " 116\n",
        "Length of downvotes list  116\n",
        "Length of date_time list  116\n",
        "Title: "
       ]
      },
      {
       "output_type": "stream",
       "stream": "stdout",
       "text": [
        " We just drove from San Francisco to New York City in a Tesla Model X without using a single drop of gas!\n",
        "Length of upvotes list "
       ]
      },
      {
       "output_type": "stream",
       "stream": "stdout",
       "text": [
        " 200\n",
        "Length of downvotes list  200\n",
        "Length of date_time list  200\n",
        "Title: "
       ]
      },
      {
       "output_type": "stream",
       "stream": "stdout",
       "text": [
        " The wrong way to use a table saw.\n",
        "Length of upvotes list "
       ]
      },
      {
       "output_type": "stream",
       "stream": "stdout",
       "text": [
        " 157\n",
        "Length of downvotes list  157\n",
        "Length of date_time list  157\n",
        "Title: "
       ]
      },
      {
       "output_type": "stream",
       "stream": "stdout",
       "text": [
        " I built my dog a new bed.\n",
        "Length of upvotes list "
       ]
      },
      {
       "output_type": "stream",
       "stream": "stdout",
       "text": [
        " 130\n",
        "Length of downvotes list  130\n",
        "Length of date_time list  130\n",
        "Title: "
       ]
      },
      {
       "output_type": "stream",
       "stream": "stdout",
       "text": [
        " Trash. If you upvote, this will be the first image when people search &quot;trash&quot;.\n",
        "Length of upvotes list "
       ]
      },
      {
       "output_type": "stream",
       "stream": "stdout",
       "text": [
        " 74\n",
        "Length of downvotes list  74\n",
        "Length of date_time list  74\n",
        "Title: "
       ]
      },
      {
       "output_type": "stream",
       "stream": "stdout",
       "text": [
        " The Revenant ft. Stewie\n",
        "Length of upvotes list "
       ]
      },
      {
       "output_type": "stream",
       "stream": "stdout",
       "text": [
        " 168\n",
        "Length of downvotes list  168\n",
        "Length of date_time list  168\n",
        "Title: "
       ]
      },
      {
       "output_type": "stream",
       "stream": "stdout",
       "text": [
        " &quot;I want to get off! STOP! I WANT TO GE...&quot;\n",
        "Length of upvotes list "
       ]
      },
      {
       "output_type": "stream",
       "stream": "stdout",
       "text": [
        " 195\n",
        "Length of downvotes list  195\n",
        "Length of date_time list  195\n",
        "Title: "
       ]
      },
      {
       "output_type": "stream",
       "stream": "stdout",
       "text": [
        " Lullabies work on all babies, including elephants.\n",
        "Length of upvotes list "
       ]
      },
      {
       "output_type": "stream",
       "stream": "stdout",
       "text": [
        " 69\n",
        "Length of downvotes list  69\n",
        "Length of date_time list  69\n",
        "Title: "
       ]
      },
      {
       "output_type": "stream",
       "stream": "stdout",
       "text": [
        " Iceland witnesses record-breaking baby boom nine months on from humiliating England at Euro 2016\n",
        "Length of upvotes list "
       ]
      },
      {
       "output_type": "stream",
       "stream": "stdout",
       "text": [
        " 105\n",
        "Length of downvotes list  105\n",
        "Length of date_time list  105\n",
        "Title: "
       ]
      },
      {
       "output_type": "stream",
       "stream": "stdout",
       "text": [
        " Twin seals separated at birth\n",
        "Length of upvotes list "
       ]
      },
      {
       "output_type": "stream",
       "stream": "stdout",
       "text": [
        " 72\n",
        "Length of downvotes list  72\n",
        "Length of date_time list  72\n",
        "Title: "
       ]
      },
      {
       "output_type": "stream",
       "stream": "stdout",
       "text": [
        " African man built car out of scraps he found laying around\n",
        "Length of upvotes list "
       ]
      },
      {
       "output_type": "stream",
       "stream": "stdout",
       "text": [
        " 199\n",
        "Length of downvotes list  199\n",
        "Length of date_time list  199\n",
        "Title: "
       ]
      },
      {
       "output_type": "stream",
       "stream": "stdout",
       "text": [
        " [Request] How far away is Saturn in the bottom frame?\n",
        "Length of upvotes list "
       ]
      },
      {
       "output_type": "stream",
       "stream": "stdout",
       "text": [
        " 56\n",
        "Length of downvotes list  56\n",
        "Length of date_time list  56\n",
        "Title: "
       ]
      },
      {
       "output_type": "stream",
       "stream": "stdout",
       "text": [
        " Facebook is the perfect place to be passive agressive\n",
        "Length of upvotes list "
       ]
      },
      {
       "output_type": "stream",
       "stream": "stdout",
       "text": [
        " 83\n",
        "Length of downvotes list  83\n",
        "Length of date_time list  83\n",
        "Title: "
       ]
      },
      {
       "output_type": "stream",
       "stream": "stdout",
       "text": [
        " How are we able to perform a body transplant when we can't repair spinal injuries?\n",
        "Length of upvotes list "
       ]
      },
      {
       "output_type": "stream",
       "stream": "stdout",
       "text": [
        " 138\n",
        "Length of downvotes list  138\n",
        "Length of date_time list  138\n",
        "Title: "
       ]
      },
      {
       "output_type": "stream",
       "stream": "stdout",
       "text": [
        " [WP] Aliens have arrived and have been eating humans like a delicacy. An alien chef gets more than he bargained for when he tries to cook Gordon Ramsay, who surprisingly is less disgusted THAT he is being cooked than over HOW he is being cooked.\n",
        "Length of upvotes list "
       ]
      },
      {
       "output_type": "stream",
       "stream": "stdout",
       "text": [
        " 24\n",
        "Length of downvotes list  24\n",
        "Length of date_time list  24\n",
        "Title: "
       ]
      },
      {
       "output_type": "stream",
       "stream": "stdout",
       "text": [
        " This iOS glitch when switching from landscape to portrait but still could write\n",
        "Length of upvotes list "
       ]
      },
      {
       "output_type": "stream",
       "stream": "stdout",
       "text": [
        " 191\n",
        "Length of downvotes list  191\n",
        "Length of date_time list  191\n",
        "Title: "
       ]
      },
      {
       "output_type": "stream",
       "stream": "stdout",
       "text": [
        " Pitfall\n",
        "Length of upvotes list "
       ]
      },
      {
       "output_type": "stream",
       "stream": "stdout",
       "text": [
        " 177\n",
        "Length of downvotes list  177\n",
        "Length of date_time list  177\n",
        "Title: "
       ]
      },
      {
       "output_type": "stream",
       "stream": "stdout",
       "text": [
        " Mod abuse is real and there are new victims everyday\n",
        "Length of upvotes list "
       ]
      },
      {
       "output_type": "stream",
       "stream": "stdout",
       "text": [
        " 199\n",
        "Length of downvotes list  199\n",
        "Length of date_time list  199\n",
        "Title: "
       ]
      },
      {
       "output_type": "stream",
       "stream": "stdout",
       "text": [
        " WCGW if I shoot myself in the face with a paintball gun?\n",
        "Length of upvotes list "
       ]
      },
      {
       "output_type": "stream",
       "stream": "stdout",
       "text": [
        " 193\n",
        "Length of downvotes list  193\n",
        "Length of date_time list  193\n",
        "Title: "
       ]
      },
      {
       "output_type": "stream",
       "stream": "stdout",
       "text": [
        " The Collapsing Empire is a hilarious tale of humanity\u2019s impending doom. John Scalzi\u2019s latest novel is a thought experiment about the fall of civilization.\n",
        "Length of upvotes list "
       ]
      },
      {
       "output_type": "stream",
       "stream": "stdout",
       "text": [
        " 198\n",
        "Length of downvotes list  198\n",
        "Length of date_time list  198\n",
        "Title: "
       ]
      },
      {
       "output_type": "stream",
       "stream": "stdout",
       "text": [
        " Spotted these patriots in r/AskReddit\n",
        "Length of upvotes list "
       ]
      },
      {
       "output_type": "stream",
       "stream": "stdout",
       "text": [
        " 27\n",
        "Length of downvotes list  27\n",
        "Length of date_time list  27\n",
        "Title: "
       ]
      },
      {
       "output_type": "stream",
       "stream": "stdout",
       "text": [
        " New 'Spider-Man: Homecoming' trailer\n",
        "Length of upvotes list "
       ]
      },
      {
       "output_type": "stream",
       "stream": "stdout",
       "text": [
        " 200\n",
        "Length of downvotes list  200\n",
        "Length of date_time list  200\n",
        "Title: "
       ]
      },
      {
       "output_type": "stream",
       "stream": "stdout",
       "text": [
        " What's the most brutally honest thing a child has ever said to you?\n",
        "Length of upvotes list "
       ]
      },
      {
       "output_type": "stream",
       "stream": "stdout",
       "text": [
        " 199\n",
        "Length of downvotes list  199\n",
        "Length of date_time list  199\n",
        "Title: "
       ]
      },
      {
       "output_type": "stream",
       "stream": "stdout",
       "text": [
        " Am I cool yet?\n",
        "Length of upvotes list "
       ]
      },
      {
       "output_type": "stream",
       "stream": "stdout",
       "text": [
        " 195\n",
        "Length of downvotes list  195\n",
        "Length of date_time list  195\n",
        "Title: "
       ]
      },
      {
       "output_type": "stream",
       "stream": "stdout",
       "text": [
        " Nintendo Switch 64 dock\n",
        "Length of upvotes list "
       ]
      },
      {
       "output_type": "stream",
       "stream": "stdout",
       "text": [
        " 198\n",
        "Length of downvotes list  198\n",
        "Length of date_time list  198\n",
        "Title: "
       ]
      },
      {
       "output_type": "stream",
       "stream": "stdout",
       "text": [
        " My buddy student teaches for a 9th grade civics class. Looks like he's teaching the younglings the important stuff...\n",
        "Length of upvotes list "
       ]
      },
      {
       "output_type": "stream",
       "stream": "stdout",
       "text": [
        " 100\n",
        "Length of downvotes list  100\n",
        "Length of date_time list  100\n",
        "Title: "
       ]
      },
      {
       "output_type": "stream",
       "stream": "stdout",
       "text": [
        " Is there any realistic way we can inform people against buying a 100 series motherboard with a Kaby Lake CPU? This is getting ridiculous.\n",
        "Length of upvotes list "
       ]
      },
      {
       "output_type": "stream",
       "stream": "stdout",
       "text": [
        " 200\n",
        "Length of downvotes list  200\n",
        "Length of date_time list  200\n",
        "Title: "
       ]
      },
      {
       "output_type": "stream",
       "stream": "stdout",
       "text": [
        " I am a retired Starcraft pro-gamer, now full-time board game designer, AMA!\n",
        "Length of upvotes list "
       ]
      },
      {
       "output_type": "stream",
       "stream": "stdout",
       "text": [
        " 200\n",
        "Length of downvotes list  200\n",
        "Length of date_time list  200\n",
        "Title: "
       ]
      },
      {
       "output_type": "stream",
       "stream": "stdout",
       "text": [
        " LPT: Never let anyone at your office know that you're resigning.\n",
        "Length of upvotes list "
       ]
      },
      {
       "output_type": "stream",
       "stream": "stdout",
       "text": [
        " 59\n",
        "Length of downvotes list  59\n",
        "Length of date_time list  59\n",
        "Title: "
       ]
      },
      {
       "output_type": "stream",
       "stream": "stdout",
       "text": [
        " REAL WORLD comparison of Android Auto vs Apple CarPlay\n",
        "Length of upvotes list "
       ]
      },
      {
       "output_type": "stream",
       "stream": "stdout",
       "text": [
        " 147\n",
        "Length of downvotes list  147\n",
        "Length of date_time list  147\n",
        "Title: "
       ]
      },
      {
       "output_type": "stream",
       "stream": "stdout",
       "text": [
        " Rescuers try to cool down a King Cobra after it had wandered into a village because of drought\n",
        "Length of upvotes list "
       ]
      },
      {
       "output_type": "stream",
       "stream": "stdout",
       "text": [
        " 199\n",
        "Length of downvotes list  199\n",
        "Length of date_time list  199\n",
        "Title: "
       ]
      },
      {
       "output_type": "stream",
       "stream": "stdout",
       "text": [
        " How I quit after I got fired and unfired\n",
        "Length of upvotes list "
       ]
      },
      {
       "output_type": "stream",
       "stream": "stdout",
       "text": [
        " 133\n",
        "Length of downvotes list  133\n",
        "Length of date_time list  133\n",
        "Title: "
       ]
      },
      {
       "output_type": "stream",
       "stream": "stdout",
       "text": [
        " PsBattle: This needlefish with its mouth agape\n",
        "Length of upvotes list "
       ]
      },
      {
       "output_type": "stream",
       "stream": "stdout",
       "text": [
        " 55\n",
        "Length of downvotes list  55\n",
        "Length of date_time list  55\n",
        "Title: "
       ]
      },
      {
       "output_type": "stream",
       "stream": "stdout",
       "text": [
        " [GTA V] Tank Slap\n",
        "Length of upvotes list "
       ]
      },
      {
       "output_type": "stream",
       "stream": "stdout",
       "text": [
        " 126\n",
        "Length of downvotes list  126\n",
        "Length of date_time list  126\n",
        "Title: "
       ]
      },
      {
       "output_type": "stream",
       "stream": "stdout",
       "text": [
        " Bullied buck-toothed kid finally gets his perfect smile\n",
        "Length of upvotes list "
       ]
      },
      {
       "output_type": "stream",
       "stream": "stdout",
       "text": [
        " 193\n",
        "Length of downvotes list  193\n",
        "Length of date_time list  193\n",
        "Title: "
       ]
      },
      {
       "output_type": "stream",
       "stream": "stdout",
       "text": [
        " I made a coffee table using wooden crates.\n",
        "Length of upvotes list "
       ]
      },
      {
       "output_type": "stream",
       "stream": "stdout",
       "text": [
        " 200\n",
        "Length of downvotes list  200\n",
        "Length of date_time list  200\n",
        "Title: "
       ]
      },
      {
       "output_type": "stream",
       "stream": "stdout",
       "text": [
        " Robot-assisted surgery is reaching an incredible level of precision!\n",
        "Length of upvotes list "
       ]
      },
      {
       "output_type": "stream",
       "stream": "stdout",
       "text": [
        " 158\n",
        "Length of downvotes list  158\n",
        "Length of date_time list  158\n",
        "Title: "
       ]
      },
      {
       "output_type": "stream",
       "stream": "stdout",
       "text": [
        " Make chests great again\n",
        "Length of upvotes list "
       ]
      },
      {
       "output_type": "stream",
       "stream": "stdout",
       "text": [
        " 197\n",
        "Length of downvotes list  197\n",
        "Length of date_time list  197\n",
        "Title: "
       ]
      },
      {
       "output_type": "stream",
       "stream": "stdout",
       "text": [
        " The Greater Tokyo area compared to Greater London [1,879 x 1,653]\n",
        "Length of upvotes list "
       ]
      },
      {
       "output_type": "stream",
       "stream": "stdout",
       "text": [
        " 135\n",
        "Length of downvotes list  135\n",
        "Length of date_time list  135\n",
        "Title: "
       ]
      },
      {
       "output_type": "stream",
       "stream": "stdout",
       "text": [
        " Man having water fight with a bear\n",
        "Length of upvotes list "
       ]
      },
      {
       "output_type": "stream",
       "stream": "stdout",
       "text": [
        " 53\n",
        "Length of downvotes list  53\n",
        "Length of date_time list  53\n",
        "Title: "
       ]
      },
      {
       "output_type": "stream",
       "stream": "stdout",
       "text": [
        " Rare footage of some extinct animals\n",
        "Length of upvotes list "
       ]
      },
      {
       "output_type": "stream",
       "stream": "stdout",
       "text": [
        " 196\n",
        "Length of downvotes list  196\n",
        "Length of date_time list  196\n",
        "Title: "
       ]
      },
      {
       "output_type": "stream",
       "stream": "stdout",
       "text": [
        " Me\ud83d\udc0dirl\n",
        "Length of upvotes list "
       ]
      },
      {
       "output_type": "stream",
       "stream": "stdout",
       "text": [
        " 36\n",
        "Length of downvotes list  36\n",
        "Length of date_time list  36\n",
        "Title: "
       ]
      },
      {
       "output_type": "stream",
       "stream": "stdout",
       "text": [
        " Trump administration sought to block Sally Yates from testifying to Congress on Russia: her testimony will be the final nail in the coffin for trump and he is desperate to stop her\n",
        "Length of upvotes list "
       ]
      },
      {
       "output_type": "stream",
       "stream": "stdout",
       "text": [
        " 96\n",
        "Length of downvotes list  96\n",
        "Length of date_time list  96\n",
        "Title: "
       ]
      },
      {
       "output_type": "stream",
       "stream": "stdout",
       "text": [
        " The &quot;I'm a millennial and I know a lot about politics&quot; starter pack\n",
        "Length of upvotes list "
       ]
      },
      {
       "output_type": "stream",
       "stream": "stdout",
       "text": [
        " 200\n",
        "Length of downvotes list  200\n",
        "Length of date_time list  200\n",
        "Title: "
       ]
      },
      {
       "output_type": "stream",
       "stream": "stdout",
       "text": [
        " \ud83d\udd25 Moon Jelly Vibes\n",
        "Length of upvotes list "
       ]
      },
      {
       "output_type": "stream",
       "stream": "stdout",
       "text": [
        " 64\n",
        "Length of downvotes list  64\n",
        "Length of date_time list  64\n",
        "Title: "
       ]
      },
      {
       "output_type": "stream",
       "stream": "stdout",
       "text": [
        " This is what pure excitement looks like\n",
        "Length of upvotes list "
       ]
      },
      {
       "output_type": "stream",
       "stream": "stdout",
       "text": [
        " 48\n",
        "Length of downvotes list  48\n",
        "Length of date_time list  48\n",
        "Title: "
       ]
      },
      {
       "output_type": "stream",
       "stream": "stdout",
       "text": [
        " &quot;Meritocracy&quot;\n",
        "Length of upvotes list "
       ]
      },
      {
       "output_type": "stream",
       "stream": "stdout",
       "text": [
        " 175\n",
        "Length of downvotes list  175\n",
        "Length of date_time list  175\n",
        "Title: "
       ]
      },
      {
       "output_type": "stream",
       "stream": "stdout",
       "text": [
        " Skinny Pete playing the piano in &quot;Breaking Bad&quot; has little dialogue, no exposition, and is never acknowledged again. Yet it's heart-breaking.\n",
        "Length of upvotes list "
       ]
      },
      {
       "output_type": "stream",
       "stream": "stdout",
       "text": [
        " 195\n",
        "Length of downvotes list  195\n",
        "Length of date_time list  195\n",
        "Title: "
       ]
      },
      {
       "output_type": "stream",
       "stream": "stdout",
       "text": [
        " Maybe if we all emailed the Constitution to each other\u2026\n",
        "Length of upvotes list "
       ]
      },
      {
       "output_type": "stream",
       "stream": "stdout",
       "text": [
        " 199\n",
        "Length of downvotes list  199\n",
        "Length of date_time list  199\n",
        "Title: "
       ]
      },
      {
       "output_type": "stream",
       "stream": "stdout",
       "text": [
        " ELI5: The 11 dimensions of the universe.\n",
        "Length of upvotes list "
       ]
      },
      {
       "output_type": "stream",
       "stream": "stdout",
       "text": [
        " 139\n",
        "Length of downvotes list  139\n",
        "Length of date_time list  139\n",
        "Title: "
       ]
      },
      {
       "output_type": "stream",
       "stream": "stdout",
       "text": [
        " Emma Stone.\n",
        "Length of upvotes list "
       ]
      },
      {
       "output_type": "stream",
       "stream": "stdout",
       "text": [
        " 68\n",
        "Length of downvotes list  68\n",
        "Length of date_time list  68\n",
        "Title: "
       ]
      },
      {
       "output_type": "stream",
       "stream": "stdout",
       "text": [
        " Trump signs order undoing Obama climate change policies\n",
        "Length of upvotes list "
       ]
      },
      {
       "output_type": "stream",
       "stream": "stdout",
       "text": [
        " 116\n",
        "Length of downvotes list  116\n",
        "Length of date_time list  116\n",
        "Title: "
       ]
      },
      {
       "output_type": "stream",
       "stream": "stdout",
       "text": [
        " dead cake\n",
        "Length of upvotes list "
       ]
      },
      {
       "output_type": "stream",
       "stream": "stdout",
       "text": [
        " 60\n",
        "Length of downvotes list  60\n",
        "Length of date_time list  60\n",
        "Title: "
       ]
      },
      {
       "output_type": "stream",
       "stream": "stdout",
       "text": [
        " Pumpkinhead\n",
        "Length of upvotes list "
       ]
      },
      {
       "output_type": "stream",
       "stream": "stdout",
       "text": [
        " 68\n",
        "Length of downvotes list  68\n",
        "Length of date_time list  68\n",
        "Title: "
       ]
      },
      {
       "output_type": "stream",
       "stream": "stdout",
       "text": [
        " [Homemade] chocolate chip cookie dough cake I made for my birthday this year. 12&quot; high before all the toppings were added!\n",
        "Length of upvotes list "
       ]
      },
      {
       "output_type": "stream",
       "stream": "stdout",
       "text": [
        " 165\n",
        "Length of downvotes list  165\n",
        "Length of date_time list  165\n",
        "Title: "
       ]
      },
      {
       "output_type": "stream",
       "stream": "stdout",
       "text": [
        " When I saw those &quot;give me $5&quot; profiles, I got the idea for the greatest response.\n",
        "Length of upvotes list "
       ]
      },
      {
       "output_type": "stream",
       "stream": "stdout",
       "text": [
        " 178\n",
        "Length of downvotes list  178\n",
        "Length of date_time list  178\n",
        "Title: "
       ]
      },
      {
       "output_type": "stream",
       "stream": "stdout",
       "text": [
        " Boyfriend Material\n",
        "Length of upvotes list "
       ]
      },
      {
       "output_type": "stream",
       "stream": "stdout",
       "text": [
        " 50\n",
        "Length of downvotes list  50\n",
        "Length of date_time list  50\n",
        "Title: "
       ]
      },
      {
       "output_type": "stream",
       "stream": "stdout",
       "text": [
        " If there's something strange in your neighborhood, who you gonna call?\n",
        "Length of upvotes list "
       ]
      },
      {
       "output_type": "stream",
       "stream": "stdout",
       "text": [
        " 41\n",
        "Length of downvotes list  41\n",
        "Length of date_time list  41\n",
        "Title: "
       ]
      },
      {
       "output_type": "stream",
       "stream": "stdout",
       "text": [
        " \ud83c\udd71\ufe0fettr run\ud83d\udc40\ud83d\ude24\ud83d\udd2b\n",
        "Length of upvotes list "
       ]
      },
      {
       "output_type": "stream",
       "stream": "stdout",
       "text": [
        " 117\n",
        "Length of downvotes list  117\n",
        "Length of date_time list  117\n",
        "Title: "
       ]
      },
      {
       "output_type": "stream",
       "stream": "stdout",
       "text": [
        " Anon is taken hostage in Iraq\n",
        "Length of upvotes list "
       ]
      },
      {
       "output_type": "stream",
       "stream": "stdout",
       "text": [
        " 0\n",
        "Length of downvotes list  0\n",
        "Length of date_time list  0\n",
        "Title: "
       ]
      },
      {
       "output_type": "stream",
       "stream": "stdout",
       "text": [
        " New 'Spider-Man: Homecoming' trailer\n",
        "Length of upvotes list "
       ]
      },
      {
       "output_type": "stream",
       "stream": "stdout",
       "text": [
        " 200\n",
        "Length of downvotes list  200\n",
        "Length of date_time list  200\n",
        "Title: "
       ]
      },
      {
       "output_type": "stream",
       "stream": "stdout",
       "text": [
        " Like if you love oreos.\n",
        "Length of upvotes list "
       ]
      },
      {
       "output_type": "stream",
       "stream": "stdout",
       "text": [
        " 144\n",
        "Length of downvotes list  144\n",
        "Length of date_time list  144\n",
        "Title: "
       ]
      },
      {
       "output_type": "stream",
       "stream": "stdout",
       "text": [
        " What it's like living through a cyclone\n",
        "Length of upvotes list "
       ]
      },
      {
       "output_type": "stream",
       "stream": "stdout",
       "text": [
        " 188\n",
        "Length of downvotes list  188\n",
        "Length of date_time list  188\n",
        "Title: "
       ]
      },
      {
       "output_type": "stream",
       "stream": "stdout",
       "text": [
        " Rashford\n",
        "Length of upvotes list "
       ]
      },
      {
       "output_type": "stream",
       "stream": "stdout",
       "text": [
        " 128\n",
        "Length of downvotes list  128\n",
        "Length of date_time list  128\n",
        "Title: "
       ]
      },
      {
       "output_type": "stream",
       "stream": "stdout",
       "text": [
        " TIL Stephen King's formula on writing is &quot;Read and write four to six hours a day. If you cannot find the time for that, you can't expect to become a good writer.&quot; He sets out each day with a quota of 2000 words and will not stop writing until it is met.\n",
        "Length of upvotes list "
       ]
      },
      {
       "output_type": "stream",
       "stream": "stdout",
       "text": [
        " 170\n",
        "Length of downvotes list  170\n",
        "Length of date_time list  170\n",
        "Title: "
       ]
      },
      {
       "output_type": "stream",
       "stream": "stdout",
       "text": [
        " The Galaxy S8 will be Samsung's biggest test ever\n",
        "Length of upvotes list "
       ]
      },
      {
       "output_type": "stream",
       "stream": "stdout",
       "text": [
        " 200\n",
        "Length of downvotes list  200\n",
        "Length of date_time list  200\n",
        "Title: "
       ]
      },
      {
       "output_type": "stream",
       "stream": "stdout",
       "text": [
        " Snorting Coke\n",
        "Length of upvotes list "
       ]
      },
      {
       "output_type": "stream",
       "stream": "stdout",
       "text": [
        " 70\n",
        "Length of downvotes list  70\n",
        "Length of date_time list  70\n",
        "Title: "
       ]
      },
      {
       "output_type": "stream",
       "stream": "stdout",
       "text": [
        " Share a prayer...\n",
        "Length of upvotes list "
       ]
      },
      {
       "output_type": "stream",
       "stream": "stdout",
       "text": [
        " 195\n",
        "Length of downvotes list  195\n",
        "Length of date_time list  195\n",
        "Title: "
       ]
      },
      {
       "output_type": "stream",
       "stream": "stdout",
       "text": [
        " Hot Honey Garlic Sweet Potato Bake. One of my new favorite side dishes. [OC] [670 x 1012]\n",
        "Length of upvotes list "
       ]
      },
      {
       "output_type": "stream",
       "stream": "stdout",
       "text": [
        " 64\n",
        "Length of downvotes list  64\n",
        "Length of date_time list  64\n",
        "Title: "
       ]
      },
      {
       "output_type": "stream",
       "stream": "stdout",
       "text": [
        " [Poetry] dog lover\n",
        "Length of upvotes list "
       ]
      },
      {
       "output_type": "stream",
       "stream": "stdout",
       "text": [
        " 155\n",
        "Length of downvotes list  155\n",
        "Length of date_time list  155\n",
        "Title: "
       ]
      },
      {
       "output_type": "stream",
       "stream": "stdout",
       "text": [
        " Congresswoman behind bill to let ISPs sell your search history took $693,000 from industry: \u201cRepresentative Blackburn hasn\u2019t done a single thing that crosses the phone and cable lobby\u201d\n",
        "Length of upvotes list "
       ]
      },
      {
       "output_type": "stream",
       "stream": "stdout",
       "text": [
        " 36\n",
        "Length of downvotes list  36\n",
        "Length of date_time list  36\n",
        "Title: "
       ]
      },
      {
       "output_type": "stream",
       "stream": "stdout",
       "text": [
        " Savage burn\n",
        "Length of upvotes list "
       ]
      },
      {
       "output_type": "stream",
       "stream": "stdout",
       "text": [
        " 187\n",
        "Length of downvotes list  187\n",
        "Length of date_time list  187\n",
        "Title: "
       ]
      },
      {
       "output_type": "stream",
       "stream": "stdout",
       "text": [
        " On this day 18 years ago (March 28, 1999) the first episode was aired.\n",
        "Length of upvotes list "
       ]
      },
      {
       "output_type": "stream",
       "stream": "stdout",
       "text": [
        " 68\n",
        "Length of downvotes list  68\n",
        "Length of date_time list  68\n",
        "Title: "
       ]
      },
      {
       "output_type": "stream",
       "stream": "stdout",
       "text": [
        " SPIDER-MAN: HOMECOMING - Official Trailer #2\n",
        "Length of upvotes list "
       ]
      },
      {
       "output_type": "stream",
       "stream": "stdout",
       "text": [
        " 200\n",
        "Length of downvotes list  200\n",
        "Length of date_time list  200\n",
        "Title: "
       ]
      },
      {
       "output_type": "stream",
       "stream": "stdout",
       "text": [
        " He loves head rubs\n",
        "Length of upvotes list "
       ]
      },
      {
       "output_type": "stream",
       "stream": "stdout",
       "text": [
        " 61\n",
        "Length of downvotes list  61\n",
        "Length of date_time list  61\n",
        "Title: "
       ]
      },
      {
       "output_type": "stream",
       "stream": "stdout",
       "text": [
        " TIFU by waging chemical warfare on myself in my kitchen.\n",
        "Length of upvotes list "
       ]
      },
      {
       "output_type": "stream",
       "stream": "stdout",
       "text": [
        " 200\n",
        "Length of downvotes list  200\n",
        "Length of date_time list  200\n",
        "Title: "
       ]
      },
      {
       "output_type": "stream",
       "stream": "stdout",
       "text": [
        " Why do only brave kids get cancer? Why none of the scaredy cats?\n",
        "Length of upvotes list "
       ]
      },
      {
       "output_type": "stream",
       "stream": "stdout",
       "text": [
        " 79\n",
        "Length of downvotes list  79\n",
        "Length of date_time list  79\n",
        "Title: "
       ]
      },
      {
       "output_type": "stream",
       "stream": "stdout",
       "text": [
        " This sub in a nutshell...\n",
        "Length of upvotes list "
       ]
      },
      {
       "output_type": "stream",
       "stream": "stdout",
       "text": [
        " 47\n",
        "Length of downvotes list  47\n",
        "Length of date_time list  47\n",
        "Title: "
       ]
      },
      {
       "output_type": "stream",
       "stream": "stdout",
       "text": [
        " 2meirl4meirl\n",
        "Length of upvotes list "
       ]
      },
      {
       "output_type": "stream",
       "stream": "stdout",
       "text": [
        " 84\n",
        "Length of downvotes list  84\n",
        "Length of date_time list  84\n",
        "Title: "
       ]
      },
      {
       "output_type": "stream",
       "stream": "stdout",
       "text": [
        " Chuck O'Rear with his famous photograph.\n",
        "Length of upvotes list "
       ]
      },
      {
       "output_type": "stream",
       "stream": "stdout",
       "text": [
        " 199\n",
        "Length of downvotes list  199\n",
        "Length of date_time list  199\n",
        "Title: "
       ]
      },
      {
       "output_type": "stream",
       "stream": "stdout",
       "text": [
        " mamabirb\n",
        "Length of upvotes list "
       ]
      },
      {
       "output_type": "stream",
       "stream": "stdout",
       "text": [
        " 30\n",
        "Length of downvotes list  30\n",
        "Length of date_time list  30\n",
        "Title: "
       ]
      },
      {
       "output_type": "stream",
       "stream": "stdout",
       "text": [
        " Science AMA Series: We are Drs. Eric Stern and Mark Michalski radiologists and data scientists. Ask us about our support of lung cancer machine learning algorithms with the National Cancer Institute (NCI) via the Data Science Bowl with Dr. Anna Fernandez and Booz Allen Hamilton. AMA!\n",
        "Length of upvotes list "
       ]
      },
      {
       "output_type": "stream",
       "stream": "stdout",
       "text": [
        " 122\n",
        "Length of downvotes list  122\n",
        "Length of date_time list  122\n",
        "Title: "
       ]
      },
      {
       "output_type": "stream",
       "stream": "stdout",
       "text": [
        " Space Man and Space Girl from Tomorrowland (1967).\n",
        "Length of upvotes list "
       ]
      },
      {
       "output_type": "stream",
       "stream": "stdout",
       "text": [
        " 55\n",
        "Length of downvotes list  55\n",
        "Length of date_time list  55\n",
        "Title: "
       ]
      },
      {
       "output_type": "stream",
       "stream": "stdout",
       "text": [
        " hUmaN CHaSEd bY HorDe OF bloOD HungRY VUltURes\n",
        "Length of upvotes list "
       ]
      },
      {
       "output_type": "stream",
       "stream": "stdout",
       "text": [
        " 92\n",
        "Length of downvotes list  92\n",
        "Length of date_time list  92\n",
        "Title: "
       ]
      },
      {
       "output_type": "stream",
       "stream": "stdout",
       "text": [
        " Did a little cleaning the other night.\n",
        "Length of upvotes list "
       ]
      },
      {
       "output_type": "stream",
       "stream": "stdout",
       "text": [
        " 71\n",
        "Length of downvotes list  71\n",
        "Length of date_time list  71\n",
        "Title: "
       ]
      },
      {
       "output_type": "stream",
       "stream": "stdout",
       "text": [
        " Toronto Councillors want to deny Pride funding over police ban\n",
        "Length of upvotes list "
       ]
      },
      {
       "output_type": "stream",
       "stream": "stdout",
       "text": [
        " 188\n",
        "Length of downvotes list  188\n",
        "Length of date_time list  188\n",
        "Title: "
       ]
      },
      {
       "output_type": "stream",
       "stream": "stdout",
       "text": [
        " :(\n",
        "Length of upvotes list "
       ]
      },
      {
       "output_type": "stream",
       "stream": "stdout",
       "text": [
        " 0\n",
        "Length of downvotes list  0\n",
        "Length of date_time list  0\n",
        "Title: "
       ]
      },
      {
       "output_type": "stream",
       "stream": "stdout",
       "text": [
        " Confused Moonwalk\n",
        "Length of upvotes list "
       ]
      },
      {
       "output_type": "stream",
       "stream": "stdout",
       "text": [
        " 92\n",
        "Length of downvotes list  92\n",
        "Length of date_time list  92\n",
        "Title: "
       ]
      },
      {
       "output_type": "stream",
       "stream": "stdout",
       "text": [
        " Words of Willems\n",
        "Length of upvotes list "
       ]
      },
      {
       "output_type": "stream",
       "stream": "stdout",
       "text": [
        " 57\n",
        "Length of downvotes list  57\n",
        "Length of date_time list  57\n",
        "Title: "
       ]
      },
      {
       "output_type": "stream",
       "stream": "stdout",
       "text": [
        " I decided to &quot;Batify&quot; The Joker's Lowrider set\n",
        "Length of upvotes list "
       ]
      },
      {
       "output_type": "stream",
       "stream": "stdout",
       "text": [
        " 61\n",
        "Length of downvotes list  61\n",
        "Length of date_time list  61\n",
        "Title: "
       ]
      },
      {
       "output_type": "stream",
       "stream": "stdout",
       "text": [
        " Raise your hand if you have a vagina. Now raise your hand if someone you love has a vagina...\n",
        "Length of upvotes list "
       ]
      },
      {
       "output_type": "stream",
       "stream": "stdout",
       "text": [
        " 108\n",
        "Length of downvotes list  108\n",
        "Length of date_time list  108\n",
        "Title: "
       ]
      },
      {
       "output_type": "stream",
       "stream": "stdout",
       "text": [
        " Grocery store psychology\n",
        "Length of upvotes list "
       ]
      },
      {
       "output_type": "stream",
       "stream": "stdout",
       "text": [
        " 171\n",
        "Length of downvotes list  171\n",
        "Length of date_time list  171\n",
        "Title: "
       ]
      },
      {
       "output_type": "stream",
       "stream": "stdout",
       "text": [
        " SpaceX is about to make history by relaunching a used Falcon 9 rocket\n",
        "Length of upvotes list "
       ]
      },
      {
       "output_type": "stream",
       "stream": "stdout",
       "text": [
        " 58\n",
        "Length of downvotes list  58\n",
        "Length of date_time list  58\n",
        "Title: "
       ]
      },
      {
       "output_type": "stream",
       "stream": "stdout",
       "text": [
        " Psyonix 'Evaluating' Whether to Bring Rocket League to Nintendo Switch - IGN\n",
        "Length of upvotes list "
       ]
      },
      {
       "output_type": "stream",
       "stream": "stdout",
       "text": [
        " 200\n",
        "Length of downvotes list  200\n",
        "Length of date_time list  200\n",
        "Title: "
       ]
      },
      {
       "output_type": "stream",
       "stream": "stdout",
       "text": [
        " Danny before Game Grumps\n",
        "Length of upvotes list "
       ]
      },
      {
       "output_type": "stream",
       "stream": "stdout",
       "text": [
        " 26\n",
        "Length of downvotes list  26\n",
        "Length of date_time list  26\n",
        "Title: "
       ]
      },
      {
       "output_type": "stream",
       "stream": "stdout",
       "text": [
        " How I got fired and un-fired in the same day.\n",
        "Length of upvotes list "
       ]
      },
      {
       "output_type": "stream",
       "stream": "stdout",
       "text": [
        " 200\n",
        "Length of downvotes list  200\n",
        "Length of date_time list  200\n",
        "Title: "
       ]
      },
      {
       "output_type": "stream",
       "stream": "stdout",
       "text": [
        " Do you really have a cookie? Or just luring me inside.\n",
        "Length of upvotes list "
       ]
      },
      {
       "output_type": "stream",
       "stream": "stdout",
       "text": [
        " 22\n",
        "Length of downvotes list  22\n",
        "Length of date_time list  22\n",
        "Title: "
       ]
      },
      {
       "output_type": "stream",
       "stream": "stdout",
       "text": [
        " Scary picture of snake biting a poor humans arm!\n",
        "Length of upvotes list "
       ]
      },
      {
       "output_type": "stream",
       "stream": "stdout",
       "text": [
        " 31\n",
        "Length of downvotes list  31\n",
        "Length of date_time list  31\n",
        "Title: "
       ]
      },
      {
       "output_type": "stream",
       "stream": "stdout",
       "text": [
        " V for Vendetta totalitarian radio reminds me of another political slogan.\n",
        "Length of upvotes list "
       ]
      },
      {
       "output_type": "stream",
       "stream": "stdout",
       "text": [
        " 131\n",
        "Length of downvotes list  131\n",
        "Length of date_time list  131\n",
        "Title: "
       ]
      },
      {
       "output_type": "stream",
       "stream": "stdout",
       "text": [
        " Giant danger noodle is thurst\n",
        "Length of upvotes list "
       ]
      },
      {
       "output_type": "stream",
       "stream": "stdout",
       "text": [
        " 45\n",
        "Length of downvotes list  45\n",
        "Length of date_time list  45\n",
        "Title: "
       ]
      },
      {
       "output_type": "stream",
       "stream": "stdout",
       "text": [
        " House of Representatives votes 232-184 to do away with Broadband Privacy\n",
        "Length of upvotes list "
       ]
      },
      {
       "output_type": "stream",
       "stream": "stdout",
       "text": [
        " 62\n",
        "Length of downvotes list  62\n",
        "Length of date_time list  62\n",
        "Title: "
       ]
      },
      {
       "output_type": "stream",
       "stream": "stdout",
       "text": [
        " Congresswoman behind bill to let ISPs sell your search history took $693,000 from industry: \u201cRepresentative Blackburn hasn\u2019t done a single thing that crosses the phone and cable lobby\u201d\n",
        "Length of upvotes list "
       ]
      },
      {
       "output_type": "stream",
       "stream": "stdout",
       "text": [
        " 34\n",
        "Length of downvotes list  34\n",
        "Length of date_time list  34\n",
        "Title: "
       ]
      },
      {
       "output_type": "stream",
       "stream": "stdout",
       "text": [
        " Group of feminists sending out free sex toys in order to close the orgasm gap\n",
        "Length of upvotes list "
       ]
      },
      {
       "output_type": "stream",
       "stream": "stdout",
       "text": [
        " 174\n",
        "Length of downvotes list  174\n",
        "Length of date_time list  174\n",
        "Title: "
       ]
      },
      {
       "output_type": "stream",
       "stream": "stdout",
       "text": [
        " [image] I see this everyday when I sit down at my computer.\n",
        "Length of upvotes list "
       ]
      },
      {
       "output_type": "stream",
       "stream": "stdout",
       "text": [
        " 187\n",
        "Length of downvotes list  187\n",
        "Length of date_time list  187\n",
        "Title: "
       ]
      },
      {
       "output_type": "stream",
       "stream": "stdout",
       "text": [
        " Oh you millennials!\n",
        "Length of upvotes list "
       ]
      },
      {
       "output_type": "stream",
       "stream": "stdout",
       "text": [
        " 197\n",
        "Length of downvotes list  197\n",
        "Length of date_time list  197\n",
        "Title: "
       ]
      },
      {
       "output_type": "stream",
       "stream": "stdout",
       "text": [
        " Nina Dobrev\n",
        "Length of upvotes list "
       ]
      },
      {
       "output_type": "stream",
       "stream": "stdout",
       "text": [
        " 14\n",
        "Length of downvotes list  14\n",
        "Length of date_time list  14\n",
        "Title: "
       ]
      },
      {
       "output_type": "stream",
       "stream": "stdout",
       "text": [
        " Get up to go to the bathroom and come back to this .....\n",
        "Length of upvotes list "
       ]
      },
      {
       "output_type": "stream",
       "stream": "stdout",
       "text": [
        " 95\n",
        "Length of downvotes list  95\n",
        "Length of date_time list  95\n",
        "Title: "
       ]
      },
      {
       "output_type": "stream",
       "stream": "stdout",
       "text": [
        " Anime_irl\n",
        "Length of upvotes list "
       ]
      },
      {
       "output_type": "stream",
       "stream": "stdout",
       "text": [
        " 105\n",
        "Length of downvotes list  105\n",
        "Length of date_time list  105\n",
        "Title: "
       ]
      },
      {
       "output_type": "stream",
       "stream": "stdout",
       "text": [
        " Large Peony flower (under existing kanji) by Nick Keiser, Integrity Tattoo in Royersford, PA\n",
        "Length of upvotes list "
       ]
      },
      {
       "output_type": "stream",
       "stream": "stdout",
       "text": [
        " 37\n",
        "Length of downvotes list  37\n",
        "Length of date_time list  37\n",
        "Title: "
       ]
      },
      {
       "output_type": "stream",
       "stream": "stdout",
       "text": [
        " As an audio engineer, this has been bothering me for a while in games.\n",
        "Length of upvotes list "
       ]
      },
      {
       "output_type": "stream",
       "stream": "stdout",
       "text": [
        " 192\n",
        "Length of downvotes list  192\n",
        "Length of date_time list  192\n",
        "Title: "
       ]
      },
      {
       "output_type": "stream",
       "stream": "stdout",
       "text": [
        " Shoveling snow is just pushing your problems to the side and waiting for them to go away.\n",
        "Length of upvotes list "
       ]
      },
      {
       "output_type": "stream",
       "stream": "stdout",
       "text": [
        " 89\n",
        "Length of downvotes list  89\n",
        "Length of date_time list  89\n",
        "Title: "
       ]
      },
      {
       "output_type": "stream",
       "stream": "stdout",
       "text": [
        " hmmm\n",
        "Length of upvotes list "
       ]
      },
      {
       "output_type": "stream",
       "stream": "stdout",
       "text": [
        " 41\n",
        "Length of downvotes list  41\n",
        "Length of date_time list  41\n",
        "Title: "
       ]
      },
      {
       "output_type": "stream",
       "stream": "stdout",
       "text": [
        " The blue team fumbled the ball and lost the game when stupid Hank dropped the lucky dip.\n",
        "Length of upvotes list "
       ]
      },
      {
       "output_type": "stream",
       "stream": "stdout",
       "text": [
        " 16\n",
        "Length of downvotes list  16\n",
        "Length of date_time list  16\n"
       ]
      }
     ],
     "prompt_number": 17
    },
    {
     "cell_type": "heading",
     "level": 3,
     "metadata": {},
     "source": [
      "Combining everything into a dataframe"
     ]
    },
    {
     "cell_type": "code",
     "collapsed": false,
     "input": [
      "titles, upvotes, downvotes, dates = zip(*pages)  # zip(*seq) transposes a sequence of sequences.\n",
      "df = pd.DataFrame({'title' : titles, 'upvotes' : upvotes, 'downvotes' : downvotes, 'date' : dates}, index=dates)\n",
      "print df"
     ],
     "language": "python",
     "metadata": {},
     "outputs": [
      {
       "output_type": "stream",
       "stream": "stdout",
       "text": [
        "                                                                                                 date  \\\n",
        "[2017-03-28 20:59:41, 2017-03-28 21:26:41, 2017...  DatetimeIndex(['2017-03-28 20:59:41', '2017-03...   \n",
        "[2017-03-28 17:54:48, 2017-03-28 18:23:15, 2017...  DatetimeIndex(['2017-03-28 17:54:48', '2017-03...   \n",
        "[2017-03-28 18:12:53, 2017-03-28 18:56:42, 2017...  DatetimeIndex(['2017-03-28 18:12:53', '2017-03...   \n",
        "[2017-03-28 17:33:55, 2017-03-28 19:21:03, 2017...  DatetimeIndex(['2017-03-28 17:33:55', '2017-03...   \n",
        "[2017-03-28 19:14:48, 2017-03-28 19:47:12, 2017...  DatetimeIndex(['2017-03-28 19:14:48', '2017-03...   \n",
        "[2017-03-28 17:59:49, 2017-03-28 19:44:59, 2017...  DatetimeIndex(['2017-03-28 17:59:49', '2017-03...   \n",
        "[2017-03-28 18:00:07, 2017-03-28 18:21:49, 2017...  DatetimeIndex(['2017-03-28 18:00:07', '2017-03...   \n",
        "[2017-03-28 19:58:26, 2017-03-28 20:25:16, 2017...  DatetimeIndex(['2017-03-28 19:58:26', '2017-03...   \n",
        "[2017-03-28 20:38:02, 2017-03-28 20:50:56, 2017...  DatetimeIndex(['2017-03-28 20:38:02', '2017-03...   \n",
        "[2017-03-28 15:19:14, 2017-03-28 15:44:03, 2017...  DatetimeIndex(['2017-03-28 15:19:14', '2017-03...   \n",
        "[2017-03-28 15:08:55, 2017-03-28 15:31:01, 2017...  DatetimeIndex(['2017-03-28 15:08:55', '2017-03...   \n",
        "[2017-03-28 12:57:54, 2017-03-28 14:22:10, 2017...  DatetimeIndex(['2017-03-28 12:57:54', '2017-03...   \n",
        "[2017-03-28 19:34:01, 2017-03-28 21:06:33, 2017...  DatetimeIndex(['2017-03-28 19:34:01', '2017-03...   \n",
        "[2017-03-28 18:00:19, 2017-03-28 18:42:50, 2017...  DatetimeIndex(['2017-03-28 18:00:19', '2017-03...   \n",
        "[2017-03-28 16:28:39, 2017-03-28 19:11:21, 2017...  DatetimeIndex(['2017-03-28 16:28:39', '2017-03...   \n",
        "[2017-03-28 16:19:37, 2017-03-28 16:28:38, 2017...  DatetimeIndex(['2017-03-28 16:19:37', '2017-03...   \n",
        "[2017-03-28 16:25:41, 2017-03-28 17:58:28, 2017...  DatetimeIndex(['2017-03-28 16:25:41', '2017-03...   \n",
        "[2017-03-28 18:15:38, 2017-03-28 19:25:08, 2017...  DatetimeIndex(['2017-03-28 18:15:38', '2017-03...   \n",
        "[2017-03-28 16:21:23, 2017-03-28 17:17:31, 2017...  DatetimeIndex(['2017-03-28 16:21:23', '2017-03...   \n",
        "[2017-03-28 16:15:40, 2017-03-28 16:51:47, 2017...  DatetimeIndex(['2017-03-28 16:15:40', '2017-03...   \n",
        "[2017-03-28 16:03:09, 2017-03-28 16:32:32, 2017...  DatetimeIndex(['2017-03-28 16:03:09', '2017-03...   \n",
        "[2017-03-28 17:13:53, 2017-03-28 17:17:07, 2017...  DatetimeIndex(['2017-03-28 17:13:53', '2017-03...   \n",
        "[2017-03-28 12:57:04, 2017-03-28 13:43:59, 2017...  DatetimeIndex(['2017-03-28 12:57:04', '2017-03...   \n",
        "[2017-03-28 15:14:37, 2017-03-28 15:30:30, 2017...  DatetimeIndex(['2017-03-28 15:14:37', '2017-03...   \n",
        "[2017-03-28 14:46:40, 2017-03-28 15:20:37, 2017...  DatetimeIndex(['2017-03-28 14:46:40', '2017-03...   \n",
        "[2017-03-28 12:09:22, 2017-03-28 12:20:07, 2017...  DatetimeIndex(['2017-03-28 12:09:22', '2017-03...   \n",
        "[2017-03-28 14:46:20, 2017-03-28 15:02:18, 2017...  DatetimeIndex(['2017-03-28 14:46:20', '2017-03...   \n",
        "[2017-03-28 16:47:28, 2017-03-28 20:18:47, 2017...  DatetimeIndex(['2017-03-28 16:47:28', '2017-03...   \n",
        "[2017-03-28 13:24:15, 2017-03-28 13:38:36, 2017...  DatetimeIndex(['2017-03-28 13:24:15', '2017-03...   \n",
        "[2017-03-28 18:32:04, 2017-03-28 22:12:42, 2017...  DatetimeIndex(['2017-03-28 18:32:04', '2017-03...   \n",
        "...                                                                                               ...   \n",
        "[2017-03-28 13:15:54, 2017-03-28 14:05:35, 2017...  DatetimeIndex(['2017-03-28 13:15:54', '2017-03...   \n",
        "[2017-03-28 15:49:41, 2017-03-28 17:29:01, 2017...  DatetimeIndex(['2017-03-28 15:49:41', '2017-03...   \n",
        "[2017-03-28 10:49:42, 2017-03-28 12:10:28, 2017...  DatetimeIndex(['2017-03-28 10:49:42', '2017-03...   \n",
        "[]                                                  DatetimeIndex([], dtype='datetime64[ns]', freq...   \n",
        "[2017-03-28 07:40:32, 2017-03-28 09:32:12, 2017...  DatetimeIndex(['2017-03-28 07:40:32', '2017-03...   \n",
        "[2017-03-28 11:21:51, 2017-03-28 12:50:41, 2017...  DatetimeIndex(['2017-03-28 11:21:51', '2017-03...   \n",
        "[2017-03-28 13:46:08, 2017-03-28 13:50:46, 2017...  DatetimeIndex(['2017-03-28 13:46:08', '2017-03...   \n",
        "[2017-03-28 14:24:21, 2017-03-28 17:49:13, 2017...  DatetimeIndex(['2017-03-28 14:24:21', '2017-03...   \n",
        "[2017-03-28 11:47:58, 2017-03-28 12:05:02, 2017...  DatetimeIndex(['2017-03-28 11:47:58', '2017-03...   \n",
        "[2017-03-28 15:22:16, 2017-03-28 16:09:11, 2017...  DatetimeIndex(['2017-03-28 15:22:16', '2017-03...   \n",
        "[2017-03-28 13:51:01, 2017-03-28 15:47:54, 2017...  DatetimeIndex(['2017-03-28 13:51:01', '2017-03...   \n",
        "[2017-03-28 15:51:48, 2017-03-28 19:02:20, 2017...  DatetimeIndex(['2017-03-28 15:51:48', '2017-03...   \n",
        "[2017-03-28 12:46:25, 2017-03-28 12:54:39, 2017...  DatetimeIndex(['2017-03-28 12:46:25', '2017-03...   \n",
        "[2017-03-28 15:48:33, 2017-03-28 18:43:24, 2017...  DatetimeIndex(['2017-03-28 15:48:33', '2017-03...   \n",
        "[2017-03-28 18:57:01, 2017-03-28 20:03:37, 2017...  DatetimeIndex(['2017-03-28 18:57:01', '2017-03...   \n",
        "[2017-03-28 14:56:00, 2017-03-28 17:32:56, 2017...  DatetimeIndex(['2017-03-28 14:56:00', '2017-03...   \n",
        "[2017-03-28 14:48:11, 2017-03-28 16:19:48, 2017...  DatetimeIndex(['2017-03-28 14:48:11', '2017-03...   \n",
        "[2017-03-28 20:34:38, 2017-03-28 20:46:57, 2017...  DatetimeIndex(['2017-03-28 20:34:38', '2017-03...   \n",
        "[2017-03-28 17:26:40, 2017-03-28 20:17:13, 2017...  DatetimeIndex(['2017-03-28 17:26:40', '2017-03...   \n",
        "[2017-03-28 14:43:57, 2017-03-28 16:00:48, 2017...  DatetimeIndex(['2017-03-28 14:43:57', '2017-03...   \n",
        "[2017-03-28 16:52:57, 2017-03-28 18:54:05, 2017...  DatetimeIndex(['2017-03-28 16:52:57', '2017-03...   \n",
        "[2017-03-28 07:53:13, 2017-03-28 08:59:08, 2017...  DatetimeIndex(['2017-03-28 07:53:13', '2017-03...   \n",
        "[2017-03-28 15:59:45, 2017-03-28 19:45:03, 2017...  DatetimeIndex(['2017-03-28 15:59:45', '2017-03...   \n",
        "[2017-03-28 13:02:26, 2017-03-28 15:05:08, 2017...  DatetimeIndex(['2017-03-28 13:02:26', '2017-03...   \n",
        "[2017-03-28 13:36:07, 2017-03-28 13:43:18, 2017...  DatetimeIndex(['2017-03-28 13:36:07', '2017-03...   \n",
        "[2017-03-28 15:33:18, 2017-03-28 15:39:02, 2017...  DatetimeIndex(['2017-03-28 15:33:18', '2017-03...   \n",
        "[2017-03-28 12:09:27, 2017-03-28 17:48:41, 2017...  DatetimeIndex(['2017-03-28 12:09:27', '2017-03...   \n",
        "[2017-03-28 09:41:29, 2017-03-28 10:25:28, 2017...  DatetimeIndex(['2017-03-28 09:41:29', '2017-03...   \n",
        "[2017-03-28 11:44:59, 2017-03-28 20:40:12, 2017...  DatetimeIndex(['2017-03-28 11:44:59', '2017-03...   \n",
        "[2017-03-28 15:27:28, 2017-03-28 18:39:05, 2017...  DatetimeIndex(['2017-03-28 15:27:28', '2017-03...   \n",
        "\n",
        "                                                                                            downvotes  \\\n",
        "[2017-03-28 20:59:41, 2017-03-28 21:26:41, 2017...  [453, 31, 15, 12, 957, 329, 92, 318, 72, 99, 3...   \n",
        "[2017-03-28 17:54:48, 2017-03-28 18:23:15, 2017...  [2884, 629, 111, 54, 20, 29, 26, 726, 518, 406...   \n",
        "[2017-03-28 18:12:53, 2017-03-28 18:56:42, 2017...  [3557, 922, 1956, 402, 64, 17, 8, 163, 49, 11,...   \n",
        "[2017-03-28 17:33:55, 2017-03-28 19:21:03, 2017...  [2925, 1089, 3241, 1204, 1673, 373, 232, 126, ...   \n",
        "[2017-03-28 19:14:48, 2017-03-28 19:47:12, 2017...  [6783, 1189, 598, 347, 143, 138, 33, 21, 753, ...   \n",
        "[2017-03-28 17:59:49, 2017-03-28 19:44:59, 2017...  [690, 480, 92, 31, 398, 73, 9, 280, 281, 202, ...   \n",
        "[2017-03-28 18:00:07, 2017-03-28 18:21:49, 2017...  [1770, 1309, 597, 305, 113, 47, 19, 22, 8, 3, ...   \n",
        "[2017-03-28 19:58:26, 2017-03-28 20:25:16, 2017...  [582, 50, 62, 52, 148, 52, 23, 2, 6, 19, 13, 2...   \n",
        "[2017-03-28 20:38:02, 2017-03-28 20:50:56, 2017...  [1079, 235, 78, 30, 16, 9, 73, 38, 3, 6, 3, 3,...   \n",
        "[2017-03-28 15:19:14, 2017-03-28 15:44:03, 2017...  [2246, 955, 285, 126, 124, 71, 56, 24, 32, 10,...   \n",
        "[2017-03-28 15:08:55, 2017-03-28 15:31:01, 2017...  [1382, 484, 344, 199, 63, 52, 13, 22, 2, 1, 31...   \n",
        "[2017-03-28 12:57:54, 2017-03-28 14:22:10, 2017...  [7177, 719, 246, 84, 139, 258, 42, 3617, 6102,...   \n",
        "[2017-03-28 19:34:01, 2017-03-28 21:06:33, 2017...  [340, 68, 32, 23, 17, 3, 1, 2, 3, -24, 61, -14...   \n",
        "[2017-03-28 18:00:19, 2017-03-28 18:42:50, 2017...  [471, 129, 18, 27, 20, 5, 3, 94, 16, 16, 27, 8...   \n",
        "[2017-03-28 16:28:39, 2017-03-28 19:11:21, 2017...  [2174, 352, 143, 99, 60, 29, 1, 2, 13, 14, 13,...   \n",
        "[2017-03-28 16:19:37, 2017-03-28 16:28:38, 2017...  [715, 266, 68, 117, 142, 59, 14, 20, 12, 1, 20...   \n",
        "[2017-03-28 16:25:41, 2017-03-28 17:58:28, 2017...                           [196, 57, 89, 29, 53, 2]   \n",
        "[2017-03-28 18:15:38, 2017-03-28 19:25:08, 2017...  [439, 83, 79, 15, 4, 2, 1, 0, 9, 1, 5, 2, 1, 1...   \n",
        "[2017-03-28 16:21:23, 2017-03-28 17:17:31, 2017...  [1221, 342, 177, 60, 47, 11, 4, 26, 28, 20, 12...   \n",
        "[2017-03-28 16:15:40, 2017-03-28 16:51:47, 2017...  [1321, 1537, 670, 198, 336, 123, 66, 35, 4, 12...   \n",
        "[2017-03-28 16:03:09, 2017-03-28 16:32:32, 2017...  [428, 106, 83, 54, 20, 9, 8, 4, 5, 1, 0, 1, 19...   \n",
        "[2017-03-28 17:13:53, 2017-03-28 17:17:07, 2017...  [433, 263, 18, 15, 3, 14, 553, 454, 111, 36, 2...   \n",
        "[2017-03-28 12:57:04, 2017-03-28 13:43:59, 2017...  [3223, 1520, 531, 190, 84, 85, 55, 20, 9, 7, 8...   \n",
        "[2017-03-28 15:14:37, 2017-03-28 15:30:30, 2017...  [5414, 1450, 672, 136, 39, 19, 117, 112, 18, 3...   \n",
        "[2017-03-28 14:46:40, 2017-03-28 15:20:37, 2017...  [3965, 732, 280, 513, 416, 20, 116, 96, 26, 15...   \n",
        "[2017-03-28 12:09:22, 2017-03-28 12:20:07, 2017...  [6727, 2058, 361, 427, 144, 90, 26, 17, 30, 19...   \n",
        "[2017-03-28 14:46:20, 2017-03-28 15:02:18, 2017...  [730, 554, 141, 86, 134, 61, 38, 14, 29, 19, 6...   \n",
        "[2017-03-28 16:47:28, 2017-03-28 20:18:47, 2017...  [213, 114, 113, 39, 84, 7, 24, 26, 17, 14, 10,...   \n",
        "[2017-03-28 13:24:15, 2017-03-28 13:38:36, 2017...  [2961, 268, 202, 92, 41, 17, 194, 191, 40, 72,...   \n",
        "[2017-03-28 18:32:04, 2017-03-28 22:12:42, 2017...  [1176, 427, 39, 86, 127, 10, 0, 3, 1, 1, 1, 11...   \n",
        "...                                                                                               ...   \n",
        "[2017-03-28 13:15:54, 2017-03-28 14:05:35, 2017...  [259, 240, 40, 17, 32, 18, 6, 11, 9, -2, 1, 0,...   \n",
        "[2017-03-28 15:49:41, 2017-03-28 17:29:01, 2017...  [36, 7, 9, 0, 2, 2, 1, 1, 0, 22, 51, 14, 0, -1...   \n",
        "[2017-03-28 10:49:42, 2017-03-28 12:10:28, 2017...  [2703, 964, 666, 248, 45, 10, 54, 528, 61, 88,...   \n",
        "[]                                                                                                 []   \n",
        "[2017-03-28 07:40:32, 2017-03-28 09:32:12, 2017...  [848, 98, 6, -10, 8, 4, 3, 0, 0, -5, 78, 11, -...   \n",
        "[2017-03-28 11:21:51, 2017-03-28 12:50:41, 2017...  [249, 29, 14, 2, 10, 2, 1, 0, 92, 145, 10, 1, ...   \n",
        "[2017-03-28 13:46:08, 2017-03-28 13:50:46, 2017...  [66, 26, 12, 15, 2, 0, 6, 3, 2, 7, 1, 0, 0, 0,...   \n",
        "[2017-03-28 14:24:21, 2017-03-28 17:49:13, 2017...  [272, 103, 23, 10, 70, 4, 302, 372, 119, 28, 1...   \n",
        "[2017-03-28 11:47:58, 2017-03-28 12:05:02, 2017...  [1582, 946, 136, 51, 14, 12, 15, 8, 3, -2, 25,...   \n",
        "[2017-03-28 15:22:16, 2017-03-28 16:09:11, 2017...  [198, 125, 82, 31, 39, 3, 3, 2, 13, 5, 14, 20,...   \n",
        "[2017-03-28 13:51:01, 2017-03-28 15:47:54, 2017...  [744, 877, 87, 23, 127, 25, 5, 16, 6, 6, 36, 4...   \n",
        "[2017-03-28 15:51:48, 2017-03-28 19:02:20, 2017...  [128, 95, 2, 47, 47, 23, 18, 23, 9, 3, 1, 14, ...   \n",
        "[2017-03-28 12:46:25, 2017-03-28 12:54:39, 2017...  [883, 673, 384, 52, 132, 188, 88, 25, 125, 51,...   \n",
        "[2017-03-28 15:48:33, 2017-03-28 18:43:24, 2017...  [24, 5, 11, 1, 9, 10, 0, 4, 2, 1, 2, 0, 1, 1, ...   \n",
        "[2017-03-28 18:57:01, 2017-03-28 20:03:37, 2017...  [50, 30, 17, 14, 9, 6, 4, 3, 35, 10, 23, 21, 1...   \n",
        "[2017-03-28 14:56:00, 2017-03-28 17:32:56, 2017...  [261, -22, 87, 10, 46, 15, 15, -8, 26, 6, 8, 5...   \n",
        "[2017-03-28 14:48:11, 2017-03-28 16:19:48, 2017...  [279, 160, 20, 11, 8, 1, 148, 94, 34, 29, 33, ...   \n",
        "[2017-03-28 20:34:38, 2017-03-28 20:46:57, 2017...  [162, 117, 58, 34, 22, 11, 16, 12, 3, 15, 1, 1...   \n",
        "[2017-03-28 17:26:40, 2017-03-28 20:17:13, 2017...  [30, 6, 0, -10, 28, 4, 2, -7, 2, 6, -3, 5, 0, ...   \n",
        "[2017-03-28 14:43:57, 2017-03-28 16:00:48, 2017...  [222, 170, 76, 26, 11, 20, 25, 56, 30, 29, 8, ...   \n",
        "[2017-03-28 16:52:57, 2017-03-28 18:54:05, 2017...  [331, 45, 30, 14, 2, 50, 20, 2, 8, 2, 1, 1, 1,...   \n",
        "[2017-03-28 07:53:13, 2017-03-28 08:59:08, 2017...  [1117, 243, 106, 116, 28, 7, 2, 2, 1, 53, 5, 1...   \n",
        "[2017-03-28 15:59:45, 2017-03-28 19:45:03, 2017...   [37, 0, 11, 7, 11, 3, 3, 0, 3, 0, -14, 35, 0, 0]   \n",
        "[2017-03-28 13:02:26, 2017-03-28 15:05:08, 2017...  [220, 70, 21, 13, 2, 2, 33, 78, 58, 14, 4, 0, ...   \n",
        "[2017-03-28 13:36:07, 2017-03-28 13:43:18, 2017...  [241, 129, 172, 163, 117, 54, 52, 35, 28, 22, ...   \n",
        "[2017-03-28 15:33:18, 2017-03-28 15:39:02, 2017...  [70, 25, 17, 15, 9, 6, 2, 11, 10, 5, 6, 2, 2, ...   \n",
        "[2017-03-28 12:09:27, 2017-03-28 17:48:41, 2017...  [3780, 129, 1305, 331, 13, 195, 209, 42, 33, 2...   \n",
        "[2017-03-28 09:41:29, 2017-03-28 10:25:28, 2017...  [621, 138, 39, 90, 35, 87, 22, 2, 1, 8, 4, 5, ...   \n",
        "[2017-03-28 11:44:59, 2017-03-28 20:40:12, 2017...  [258, 10, 2, 97, 24, 1, 39, 8, 5, 16, 8, 3, 0,...   \n",
        "[2017-03-28 15:27:28, 2017-03-28 18:39:05, 2017...  [287, 86, 21, 5, 3, -1, 39, 31, 8, 11, 11, 5, ...   \n",
        "\n",
        "                                                                                                title  \\\n",
        "[2017-03-28 20:59:41, 2017-03-28 21:26:41, 2017...  I am a robot that automatically prints and bur...   \n",
        "[2017-03-28 17:54:48, 2017-03-28 18:23:15, 2017...                                    Little Predator   \n",
        "[2017-03-28 18:12:53, 2017-03-28 18:56:42, 2017...          [Image] Not all those who wander are lost   \n",
        "[2017-03-28 17:33:55, 2017-03-28 19:21:03, 2017...  Gonzaga basketball players and the news anchor...   \n",
        "[2017-03-28 19:14:48, 2017-03-28 19:47:12, 2017...                           Perfect selfie with Bill   \n",
        "[2017-03-28 17:59:49, 2017-03-28 19:44:59, 2017...       African American protestor in Chicago, 1941.   \n",
        "[2017-03-28 18:00:07, 2017-03-28 18:21:49, 2017...                   Finding out the sex of your baby   \n",
        "[2017-03-28 19:58:26, 2017-03-28 20:25:16, 2017...  Don't build a wall here! USA/Mexico Border at ...   \n",
        "[2017-03-28 20:38:02, 2017-03-28 20:50:56, 2017...                         So, what's your real name?   \n",
        "[2017-03-28 15:19:14, 2017-03-28 15:44:03, 2017...                    Puppers swim for the first time   \n",
        "[2017-03-28 15:08:55, 2017-03-28 15:31:01, 2017...  3,800-year-old Egyption Tomb Found, Intact and...   \n",
        "[2017-03-28 12:57:54, 2017-03-28 14:22:10, 2017...  Congresswoman behind bill to let ISPs sell you...   \n",
        "[2017-03-28 19:34:01, 2017-03-28 21:06:33, 2017...  I didn't realize the kid that fell was special...   \n",
        "[2017-03-28 18:00:19, 2017-03-28 18:42:50, 2017...                         IT - first official poster   \n",
        "[2017-03-28 16:28:39, 2017-03-28 19:11:21, 2017...                                           JB&amp;P   \n",
        "[2017-03-28 16:19:37, 2017-03-28 16:28:38, 2017...  Feels good to see films with don't rely on wor...   \n",
        "[2017-03-28 16:25:41, 2017-03-28 17:58:28, 2017...  A town in Lithuania has this ghost statue clim...   \n",
        "[2017-03-28 18:15:38, 2017-03-28 19:25:08, 2017...                           Smashing through a table   \n",
        "[2017-03-28 16:21:23, 2017-03-28 17:17:31, 2017...                              Can't deny that spark   \n",
        "[2017-03-28 16:15:40, 2017-03-28 16:51:47, 2017...  Today, my professor decided to match his tie w...   \n",
        "[2017-03-28 16:03:09, 2017-03-28 16:32:32, 2017...            Forest Giant, Eytan Zana, Digital, 2015   \n",
        "[2017-03-28 17:13:53, 2017-03-28 17:17:07, 2017...           New Horizons' High-Res Farewell to Pluto   \n",
        "[2017-03-28 12:57:04, 2017-03-28 13:43:59, 2017...                             Does this belong here?   \n",
        "[2017-03-28 15:14:37, 2017-03-28 15:30:30, 2017...  Snoop Dogg to induct Tupac Shakur into the Roc...   \n",
        "[2017-03-28 14:46:40, 2017-03-28 15:20:37, 2017...  Only Sweden, Germany and France are pursuing P...   \n",
        "[2017-03-28 12:09:22, 2017-03-28 12:20:07, 2017...  TIL that in 1987, Fisher-Price manufactured an...   \n",
        "[2017-03-28 14:46:20, 2017-03-28 15:02:18, 2017...                   This door at my dentist's office   \n",
        "[2017-03-28 16:47:28, 2017-03-28 20:18:47, 2017...  SpaceX is about to make history by relaunching...   \n",
        "[2017-03-28 13:24:15, 2017-03-28 13:38:36, 2017...             Binging with Babish: Cubanos from Chef   \n",
        "[2017-03-28 18:32:04, 2017-03-28 22:12:42, 2017...  Reddit is advertising really bad IRA advice. P...   \n",
        "...                                                                                               ...   \n",
        "[2017-03-28 13:15:54, 2017-03-28 14:05:35, 2017...     hUmaN CHaSEd bY HorDe OF bloOD HungRY VUltURes   \n",
        "[2017-03-28 15:49:41, 2017-03-28 17:29:01, 2017...             Did a little cleaning the other night.   \n",
        "[2017-03-28 10:49:42, 2017-03-28 12:10:28, 2017...  Toronto Councillors want to deny Pride funding...   \n",
        "[]                                                                                                 :(   \n",
        "[2017-03-28 07:40:32, 2017-03-28 09:32:12, 2017...                                  Confused Moonwalk   \n",
        "[2017-03-28 11:21:51, 2017-03-28 12:50:41, 2017...                                   Words of Willems   \n",
        "[2017-03-28 13:46:08, 2017-03-28 13:50:46, 2017...  I decided to &quot;Batify&quot; The Joker's Lo...   \n",
        "[2017-03-28 14:24:21, 2017-03-28 17:49:13, 2017...  Raise your hand if you have a vagina. Now rais...   \n",
        "[2017-03-28 11:47:58, 2017-03-28 12:05:02, 2017...                           Grocery store psychology   \n",
        "[2017-03-28 15:22:16, 2017-03-28 16:09:11, 2017...  SpaceX is about to make history by relaunching...   \n",
        "[2017-03-28 13:51:01, 2017-03-28 15:47:54, 2017...  Psyonix 'Evaluating' Whether to Bring Rocket L...   \n",
        "[2017-03-28 15:51:48, 2017-03-28 19:02:20, 2017...                           Danny before Game Grumps   \n",
        "[2017-03-28 12:46:25, 2017-03-28 12:54:39, 2017...      How I got fired and un-fired in the same day.   \n",
        "[2017-03-28 15:48:33, 2017-03-28 18:43:24, 2017...  Do you really have a cookie? Or just luring me...   \n",
        "[2017-03-28 18:57:01, 2017-03-28 20:03:37, 2017...   Scary picture of snake biting a poor humans arm!   \n",
        "[2017-03-28 14:56:00, 2017-03-28 17:32:56, 2017...  V for Vendetta totalitarian radio reminds me o...   \n",
        "[2017-03-28 14:48:11, 2017-03-28 16:19:48, 2017...                      Giant danger noodle is thurst   \n",
        "[2017-03-28 20:34:38, 2017-03-28 20:46:57, 2017...  House of Representatives votes 232-184 to do a...   \n",
        "[2017-03-28 17:26:40, 2017-03-28 20:17:13, 2017...  Congresswoman behind bill to let ISPs sell you...   \n",
        "[2017-03-28 14:43:57, 2017-03-28 16:00:48, 2017...  Group of feminists sending out free sex toys i...   \n",
        "[2017-03-28 16:52:57, 2017-03-28 18:54:05, 2017...  [image] I see this everyday when I sit down at...   \n",
        "[2017-03-28 07:53:13, 2017-03-28 08:59:08, 2017...                                Oh you millennials!   \n",
        "[2017-03-28 15:59:45, 2017-03-28 19:45:03, 2017...                                        Nina Dobrev   \n",
        "[2017-03-28 13:02:26, 2017-03-28 15:05:08, 2017...  Get up to go to the bathroom and come back to ...   \n",
        "[2017-03-28 13:36:07, 2017-03-28 13:43:18, 2017...                                          Anime_irl   \n",
        "[2017-03-28 15:33:18, 2017-03-28 15:39:02, 2017...  Large Peony flower (under existing kanji) by N...   \n",
        "[2017-03-28 12:09:27, 2017-03-28 17:48:41, 2017...  As an audio engineer, this has been bothering ...   \n",
        "[2017-03-28 09:41:29, 2017-03-28 10:25:28, 2017...  Shoveling snow is just pushing your problems t...   \n",
        "[2017-03-28 11:44:59, 2017-03-28 20:40:12, 2017...                                               hmmm   \n",
        "[2017-03-28 15:27:28, 2017-03-28 18:39:05, 2017...  The blue team fumbled the ball and lost the ga...   \n",
        "\n",
        "                                                                                              upvotes  \n",
        "[2017-03-28 20:59:41, 2017-03-28 21:26:41, 2017...  [455, 33, 17, 14, 959, 331, 94, 320, 74, 101, ...  \n",
        "[2017-03-28 17:54:48, 2017-03-28 18:23:15, 2017...  [2886, 631, 113, 56, 22, 31, 28, 728, 520, 408...  \n",
        "[2017-03-28 18:12:53, 2017-03-28 18:56:42, 2017...  [3559, 924, 1958, 404, 66, 19, 10, 165, 51, 13...  \n",
        "[2017-03-28 17:33:55, 2017-03-28 19:21:03, 2017...  [2927, 1091, 3243, 1206, 1675, 375, 234, 128, ...  \n",
        "[2017-03-28 19:14:48, 2017-03-28 19:47:12, 2017...  [6785, 1191, 600, 349, 145, 140, 35, 23, 755, ...  \n",
        "[2017-03-28 17:59:49, 2017-03-28 19:44:59, 2017...  [692, 482, 94, 33, 400, 75, 11, 282, 283, 204,...  \n",
        "[2017-03-28 18:00:07, 2017-03-28 18:21:49, 2017...  [1772, 1311, 599, 307, 115, 49, 21, 24, 10, 5,...  \n",
        "[2017-03-28 19:58:26, 2017-03-28 20:25:16, 2017...  [584, 52, 64, 54, 150, 54, 25, 4, 8, 21, 15, 2...  \n",
        "[2017-03-28 20:38:02, 2017-03-28 20:50:56, 2017...  [1081, 237, 80, 32, 18, 11, 75, 40, 5, 8, 5, 5...  \n",
        "[2017-03-28 15:19:14, 2017-03-28 15:44:03, 2017...  [2248, 957, 287, 128, 126, 73, 58, 26, 34, 12,...  \n",
        "[2017-03-28 15:08:55, 2017-03-28 15:31:01, 2017...  [1384, 486, 346, 201, 65, 54, 15, 24, 4, 3, 33...  \n",
        "[2017-03-28 12:57:54, 2017-03-28 14:22:10, 2017...  [7179, 721, 248, 86, 141, 260, 44, 3619, 6104,...  \n",
        "[2017-03-28 19:34:01, 2017-03-28 21:06:33, 2017...  [342, 70, 34, 25, 19, 5, 3, 4, 5, -22, 63, -12...  \n",
        "[2017-03-28 18:00:19, 2017-03-28 18:42:50, 2017...  [473, 131, 20, 29, 22, 7, 5, 96, 18, 18, 29, 1...  \n",
        "[2017-03-28 16:28:39, 2017-03-28 19:11:21, 2017...  [2176, 354, 145, 101, 62, 31, 3, 4, 15, 16, 15...  \n",
        "[2017-03-28 16:19:37, 2017-03-28 16:28:38, 2017...  [717, 268, 70, 119, 144, 61, 16, 22, 14, 3, 22...  \n",
        "[2017-03-28 16:25:41, 2017-03-28 17:58:28, 2017...                           [198, 59, 91, 31, 55, 4]  \n",
        "[2017-03-28 18:15:38, 2017-03-28 19:25:08, 2017...  [441, 85, 81, 17, 6, 4, 3, 2, 11, 3, 7, 4, 3, ...  \n",
        "[2017-03-28 16:21:23, 2017-03-28 17:17:31, 2017...  [1223, 344, 179, 62, 49, 13, 6, 28, 30, 22, 14...  \n",
        "[2017-03-28 16:15:40, 2017-03-28 16:51:47, 2017...  [1323, 1539, 672, 200, 338, 125, 68, 37, 6, 14...  \n",
        "[2017-03-28 16:03:09, 2017-03-28 16:32:32, 2017...  [430, 108, 85, 56, 22, 11, 10, 6, 7, 3, 2, 3, ...  \n",
        "[2017-03-28 17:13:53, 2017-03-28 17:17:07, 2017...  [435, 265, 20, 17, 5, 16, 555, 456, 113, 38, 2...  \n",
        "[2017-03-28 12:57:04, 2017-03-28 13:43:59, 2017...  [3225, 1522, 533, 192, 86, 87, 57, 22, 11, 9, ...  \n",
        "[2017-03-28 15:14:37, 2017-03-28 15:30:30, 2017...  [5416, 1452, 674, 138, 41, 21, 119, 114, 20, 3...  \n",
        "[2017-03-28 14:46:40, 2017-03-28 15:20:37, 2017...  [3967, 734, 282, 515, 418, 22, 118, 98, 28, 17...  \n",
        "[2017-03-28 12:09:22, 2017-03-28 12:20:07, 2017...  [6729, 2060, 363, 429, 146, 92, 28, 19, 32, 21...  \n",
        "[2017-03-28 14:46:20, 2017-03-28 15:02:18, 2017...  [732, 556, 143, 88, 136, 63, 40, 16, 31, 21, 8...  \n",
        "[2017-03-28 16:47:28, 2017-03-28 20:18:47, 2017...  [215, 116, 115, 41, 86, 9, 26, 28, 19, 16, 12,...  \n",
        "[2017-03-28 13:24:15, 2017-03-28 13:38:36, 2017...  [2963, 270, 204, 94, 43, 19, 196, 193, 42, 74,...  \n",
        "[2017-03-28 18:32:04, 2017-03-28 22:12:42, 2017...  [1178, 429, 41, 88, 129, 12, 2, 5, 3, 3, 3, 12...  \n",
        "...                                                                                               ...  \n",
        "[2017-03-28 13:15:54, 2017-03-28 14:05:35, 2017...  [261, 242, 42, 19, 34, 20, 8, 13, 11, 0, 3, 2,...  \n",
        "[2017-03-28 15:49:41, 2017-03-28 17:29:01, 2017...  [38, 9, 11, 2, 4, 4, 3, 3, 2, 24, 53, 16, 2, -...  \n",
        "[2017-03-28 10:49:42, 2017-03-28 12:10:28, 2017...  [2705, 966, 668, 250, 47, 12, 56, 530, 63, 90,...  \n",
        "[]                                                                                                 []  \n",
        "[2017-03-28 07:40:32, 2017-03-28 09:32:12, 2017...  [850, 100, 8, -8, 10, 6, 5, 2, 2, -3, 80, 13, ...  \n",
        "[2017-03-28 11:21:51, 2017-03-28 12:50:41, 2017...  [251, 31, 16, 4, 12, 4, 3, 2, 94, 147, 12, 3, ...  \n",
        "[2017-03-28 13:46:08, 2017-03-28 13:50:46, 2017...  [68, 28, 14, 17, 4, 2, 8, 5, 4, 9, 3, 2, 2, 2,...  \n",
        "[2017-03-28 14:24:21, 2017-03-28 17:49:13, 2017...  [274, 105, 25, 12, 72, 6, 304, 374, 121, 30, 1...  \n",
        "[2017-03-28 11:47:58, 2017-03-28 12:05:02, 2017...  [1584, 948, 138, 53, 16, 14, 17, 10, 5, 0, 27,...  \n",
        "[2017-03-28 15:22:16, 2017-03-28 16:09:11, 2017...  [200, 127, 84, 33, 41, 5, 5, 4, 15, 7, 16, 22,...  \n",
        "[2017-03-28 13:51:01, 2017-03-28 15:47:54, 2017...  [746, 879, 89, 25, 129, 27, 7, 18, 8, 8, 38, 5...  \n",
        "[2017-03-28 15:51:48, 2017-03-28 19:02:20, 2017...  [130, 97, 4, 49, 49, 25, 20, 25, 11, 5, 3, 16,...  \n",
        "[2017-03-28 12:46:25, 2017-03-28 12:54:39, 2017...  [885, 675, 386, 54, 134, 190, 90, 27, 127, 53,...  \n",
        "[2017-03-28 15:48:33, 2017-03-28 18:43:24, 2017...  [26, 7, 13, 3, 11, 12, 2, 6, 4, 3, 4, 2, 3, 3,...  \n",
        "[2017-03-28 18:57:01, 2017-03-28 20:03:37, 2017...  [52, 32, 19, 16, 11, 8, 6, 5, 37, 12, 25, 23, ...  \n",
        "[2017-03-28 14:56:00, 2017-03-28 17:32:56, 2017...  [263, -20, 89, 12, 48, 17, 17, -6, 28, 8, 10, ...  \n",
        "[2017-03-28 14:48:11, 2017-03-28 16:19:48, 2017...  [281, 162, 22, 13, 10, 3, 150, 96, 36, 31, 35,...  \n",
        "[2017-03-28 20:34:38, 2017-03-28 20:46:57, 2017...  [164, 119, 60, 36, 24, 13, 18, 14, 5, 17, 3, 3...  \n",
        "[2017-03-28 17:26:40, 2017-03-28 20:17:13, 2017...  [32, 8, 2, -8, 30, 6, 4, -5, 4, 8, -1, 7, 2, 3...  \n",
        "[2017-03-28 14:43:57, 2017-03-28 16:00:48, 2017...  [224, 172, 78, 28, 13, 22, 27, 58, 32, 31, 10,...  \n",
        "[2017-03-28 16:52:57, 2017-03-28 18:54:05, 2017...  [333, 47, 32, 16, 4, 52, 22, 4, 10, 4, 3, 3, 3...  \n",
        "[2017-03-28 07:53:13, 2017-03-28 08:59:08, 2017...  [1119, 245, 108, 118, 30, 9, 4, 4, 3, 55, 7, 1...  \n",
        "[2017-03-28 15:59:45, 2017-03-28 19:45:03, 2017...   [39, 2, 13, 9, 13, 5, 5, 2, 5, 2, -12, 37, 2, 2]  \n",
        "[2017-03-28 13:02:26, 2017-03-28 15:05:08, 2017...  [222, 72, 23, 15, 4, 4, 35, 80, 60, 16, 6, 2, ...  \n",
        "[2017-03-28 13:36:07, 2017-03-28 13:43:18, 2017...  [243, 131, 174, 165, 119, 56, 54, 37, 30, 24, ...  \n",
        "[2017-03-28 15:33:18, 2017-03-28 15:39:02, 2017...  [72, 27, 19, 17, 11, 8, 4, 13, 12, 7, 8, 4, 4,...  \n",
        "[2017-03-28 12:09:27, 2017-03-28 17:48:41, 2017...  [3782, 131, 1307, 333, 15, 197, 211, 44, 35, 2...  \n",
        "[2017-03-28 09:41:29, 2017-03-28 10:25:28, 2017...  [623, 140, 41, 92, 37, 89, 24, 4, 3, 10, 6, 7,...  \n",
        "[2017-03-28 11:44:59, 2017-03-28 20:40:12, 2017...  [260, 12, 4, 99, 26, 3, 41, 10, 7, 18, 10, 5, ...  \n",
        "[2017-03-28 15:27:28, 2017-03-28 18:39:05, 2017...  [289, 88, 23, 7, 5, 1, 41, 33, 10, 13, 13, 7, ...  \n",
        "\n",
        "[150 rows x 4 columns]\n"
       ]
      }
     ],
     "prompt_number": 22
    },
    {
     "cell_type": "markdown",
     "metadata": {},
     "source": [
      "<p> <p/> "
     ]
    }
   ],
   "metadata": {}
  }
 ]
}